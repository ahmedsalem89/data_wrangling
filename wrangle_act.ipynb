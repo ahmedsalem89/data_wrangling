{
 "cells": [
  {
   "cell_type": "code",
   "execution_count": 1,
   "id": "instrumental-avatar",
   "metadata": {},
   "outputs": [],
   "source": [
    "%matplotlib inline\n",
    "import matplotlib.pyplot as plt\n",
    "import seaborn as sns\n",
    "sns.set_theme()\n",
    "import pandas as pd\n",
    "import requests\n",
    "import tweepy\n",
    "from tweepy import OAuthHandler\n",
    "import json\n",
    "from timeit import default_timer as timer"
   ]
  },
  {
   "cell_type": "markdown",
   "id": "living-visibility",
   "metadata": {},
   "source": [
    "# gathering data"
   ]
  },
  {
   "cell_type": "code",
   "execution_count": 2,
   "id": "center-investigator",
   "metadata": {},
   "outputs": [],
   "source": [
    "# twitter archieve: 1st piece\n",
    "twitter_archive_df = pd.read_csv('twitter-archive-enhanced.csv')\n",
    "\n",
    "# getting tweet image predictions: 2nd piece\n",
    "url = ' https://d17h27t6h515a5.cloudfront.net/topher/2017/August/599fd2ad_image-predictions/image-predictions.tsv'\n",
    "response = requests.get(url)\n",
    "with open('image-predictions.tsv', mode='wb') as file:\n",
    "    content = response.content\n",
    "    file.write(content)   # image-predictions.tsv is now on working directory\n",
    "    \n",
    "image_predic_df = pd.read_csv('image-predictions.tsv', sep='\\t')"
   ]
  },
  {
   "cell_type": "raw",
   "id": "acknowledged-munich",
   "metadata": {},
   "source": [
    "# 3rd piece: tweet's retweet count and favorite (\"like\") count using  Python's Tweepy API\n",
    "consumer_key = 'HIDDEN'\n",
    "consumer_secret = 'HIDDEN'\n",
    "access_token = 'HIDDEN'\n",
    "access_secret = 'HIDDEN'\n",
    "\n",
    "auth = OAuthHandler(consumer_key, consumer_secret)\n",
    "auth.set_access_token(access_token, access_secret)\n",
    "\n",
    "api = tweepy.API(auth, wait_on_rate_limit=True, wait_on_rate_limit_notify=True)\n",
    "\n",
    "tweet_ids = twitter_archive_df.tweet_id.values\n",
    "print(tweet_ids)\n",
    "print()\n",
    "len(tweet_ids)"
   ]
  },
  {
   "cell_type": "raw",
   "id": "cheap-entry",
   "metadata": {},
   "source": [
    "# using instruction in \"twitter-api.py\"==>query the Twitter API for each tweet as (JSON)\n",
    "count = 0\n",
    "fails_dict = {}\n",
    "start = timer()\n",
    "# Save each tweet's returned JSON as a new line in a .txt file\n",
    "with open('tweet_json.txt', 'w', encoding='utf-8') as outfile:\n",
    "    # This loop will likely take 20-30 minutes to run because of Twitter's rate limit\n",
    "    for tweet_id in tweet_ids:\n",
    "        count += 1\n",
    "        print(str(count) + \": \" + str(tweet_id))\n",
    "        try:\n",
    "            tweet = api.get_status(tweet_id, tweet_mode='extended')\n",
    "            print(\"Success\")\n",
    "            json.dump(tweet._json, outfile)\n",
    "            outfile.write('\\n')\n",
    "        except tweepy.TweepError as e:\n",
    "            print(\"Fail\")\n",
    "            fails_dict[tweet_id] = e\n",
    "            pass\n",
    "end = timer()\n",
    "print(end - start)\n",
    "print(fails_dict)"
   ]
  },
  {
   "cell_type": "code",
   "execution_count": 3,
   "id": "armed-civilian",
   "metadata": {},
   "outputs": [],
   "source": [
    "# Reading created JSON from a File line by line\n",
    "tweets_conunts=[]\n",
    "with open('tweet_json.txt', 'r') as jfile:\n",
    "    for line in jfile:\n",
    "        data = json.loads(line)\n",
    "        #print(data)\n",
    "        #break\n",
    "        tweets_conunts.append({'tweet_id': data['id'], 'retweet_count': data['retweet_count'], 'like_count': data['favorite_count']})\n",
    "tweets_df = pd.DataFrame(tweets_conunts, columns=['tweet_id', 'retweet_count', 'like_count'])        "
   ]
  },
  {
   "cell_type": "markdown",
   "id": "reasonable-allah",
   "metadata": {},
   "source": [
    "# Assessing Data"
   ]
  },
  {
   "cell_type": "code",
   "execution_count": 4,
   "id": "complete-employer",
   "metadata": {
    "scrolled": true
   },
   "outputs": [
    {
     "data": {
      "text/html": [
       "<div>\n",
       "<style scoped>\n",
       "    .dataframe tbody tr th:only-of-type {\n",
       "        vertical-align: middle;\n",
       "    }\n",
       "\n",
       "    .dataframe tbody tr th {\n",
       "        vertical-align: top;\n",
       "    }\n",
       "\n",
       "    .dataframe thead th {\n",
       "        text-align: right;\n",
       "    }\n",
       "</style>\n",
       "<table border=\"1\" class=\"dataframe\">\n",
       "  <thead>\n",
       "    <tr style=\"text-align: right;\">\n",
       "      <th></th>\n",
       "      <th>tweet_id</th>\n",
       "      <th>in_reply_to_status_id</th>\n",
       "      <th>in_reply_to_user_id</th>\n",
       "      <th>timestamp</th>\n",
       "      <th>source</th>\n",
       "      <th>text</th>\n",
       "      <th>retweeted_status_id</th>\n",
       "      <th>retweeted_status_user_id</th>\n",
       "      <th>retweeted_status_timestamp</th>\n",
       "      <th>expanded_urls</th>\n",
       "      <th>rating_numerator</th>\n",
       "      <th>rating_denominator</th>\n",
       "      <th>name</th>\n",
       "      <th>doggo</th>\n",
       "      <th>floofer</th>\n",
       "      <th>pupper</th>\n",
       "      <th>puppo</th>\n",
       "    </tr>\n",
       "  </thead>\n",
       "  <tbody>\n",
       "    <tr>\n",
       "      <th>908</th>\n",
       "      <td>757729163776290825</td>\n",
       "      <td>NaN</td>\n",
       "      <td>NaN</td>\n",
       "      <td>2016-07-26 00:08:05 +0000</td>\n",
       "      <td>&lt;a href=\"http://twitter.com/download/iphone\" r...</td>\n",
       "      <td>RT @dog_rates: This is Chompsky. He lives up t...</td>\n",
       "      <td>6.790626e+17</td>\n",
       "      <td>4.196984e+09</td>\n",
       "      <td>2015-12-21 22:15:18 +0000</td>\n",
       "      <td>https://twitter.com/dog_rates/status/679062614...</td>\n",
       "      <td>11</td>\n",
       "      <td>10</td>\n",
       "      <td>Chompsky</td>\n",
       "      <td>None</td>\n",
       "      <td>None</td>\n",
       "      <td>None</td>\n",
       "      <td>None</td>\n",
       "    </tr>\n",
       "    <tr>\n",
       "      <th>358</th>\n",
       "      <td>830097400375152640</td>\n",
       "      <td>NaN</td>\n",
       "      <td>NaN</td>\n",
       "      <td>2017-02-10 16:53:37 +0000</td>\n",
       "      <td>&lt;a href=\"http://twitter.com/download/iphone\" r...</td>\n",
       "      <td>Meet Samson. He's absolute fluffy perfection. ...</td>\n",
       "      <td>NaN</td>\n",
       "      <td>NaN</td>\n",
       "      <td>NaN</td>\n",
       "      <td>https://www.gofundme.com/sick-baby-samson,http...</td>\n",
       "      <td>13</td>\n",
       "      <td>10</td>\n",
       "      <td>Samson</td>\n",
       "      <td>None</td>\n",
       "      <td>None</td>\n",
       "      <td>None</td>\n",
       "      <td>None</td>\n",
       "    </tr>\n",
       "    <tr>\n",
       "      <th>687</th>\n",
       "      <td>788039637453406209</td>\n",
       "      <td>NaN</td>\n",
       "      <td>NaN</td>\n",
       "      <td>2016-10-17 15:31:05 +0000</td>\n",
       "      <td>&lt;a href=\"http://twitter.com/download/iphone\" r...</td>\n",
       "      <td>Did... did they pick out that license plate? 1...</td>\n",
       "      <td>NaN</td>\n",
       "      <td>NaN</td>\n",
       "      <td>NaN</td>\n",
       "      <td>https://twitter.com/dog_rates/status/788039637...</td>\n",
       "      <td>12</td>\n",
       "      <td>10</td>\n",
       "      <td>None</td>\n",
       "      <td>None</td>\n",
       "      <td>None</td>\n",
       "      <td>None</td>\n",
       "      <td>None</td>\n",
       "    </tr>\n",
       "    <tr>\n",
       "      <th>831</th>\n",
       "      <td>768609597686943744</td>\n",
       "      <td>NaN</td>\n",
       "      <td>NaN</td>\n",
       "      <td>2016-08-25 00:43:02 +0000</td>\n",
       "      <td>&lt;a href=\"http://twitter.com/download/iphone\" r...</td>\n",
       "      <td>This is Lou. His sweater is too small and he a...</td>\n",
       "      <td>NaN</td>\n",
       "      <td>NaN</td>\n",
       "      <td>NaN</td>\n",
       "      <td>https://twitter.com/dog_rates/status/768609597...</td>\n",
       "      <td>10</td>\n",
       "      <td>10</td>\n",
       "      <td>Lou</td>\n",
       "      <td>None</td>\n",
       "      <td>None</td>\n",
       "      <td>None</td>\n",
       "      <td>None</td>\n",
       "    </tr>\n",
       "    <tr>\n",
       "      <th>1132</th>\n",
       "      <td>728760639972315136</td>\n",
       "      <td>NaN</td>\n",
       "      <td>NaN</td>\n",
       "      <td>2016-05-07 01:37:30 +0000</td>\n",
       "      <td>&lt;a href=\"http://twitter.com/download/iphone\" r...</td>\n",
       "      <td>When you're way too slow for the \"down low\" po...</td>\n",
       "      <td>NaN</td>\n",
       "      <td>NaN</td>\n",
       "      <td>NaN</td>\n",
       "      <td>https://twitter.com/dog_rates/status/728760639...</td>\n",
       "      <td>13</td>\n",
       "      <td>10</td>\n",
       "      <td>None</td>\n",
       "      <td>None</td>\n",
       "      <td>None</td>\n",
       "      <td>None</td>\n",
       "      <td>None</td>\n",
       "    </tr>\n",
       "    <tr>\n",
       "      <th>2246</th>\n",
       "      <td>667878741721415682</td>\n",
       "      <td>NaN</td>\n",
       "      <td>NaN</td>\n",
       "      <td>2015-11-21 01:34:35 +0000</td>\n",
       "      <td>&lt;a href=\"http://twitter.com/download/iphone\" r...</td>\n",
       "      <td>This is Tedrick. He lives on the edge. Needs s...</td>\n",
       "      <td>NaN</td>\n",
       "      <td>NaN</td>\n",
       "      <td>NaN</td>\n",
       "      <td>https://twitter.com/dog_rates/status/667878741...</td>\n",
       "      <td>2</td>\n",
       "      <td>10</td>\n",
       "      <td>Tedrick</td>\n",
       "      <td>None</td>\n",
       "      <td>None</td>\n",
       "      <td>None</td>\n",
       "      <td>None</td>\n",
       "    </tr>\n",
       "    <tr>\n",
       "      <th>2173</th>\n",
       "      <td>669324657376567296</td>\n",
       "      <td>NaN</td>\n",
       "      <td>NaN</td>\n",
       "      <td>2015-11-25 01:20:08 +0000</td>\n",
       "      <td>&lt;a href=\"http://twitter.com/download/iphone\" r...</td>\n",
       "      <td>Meet Ralf. He's a miniature Buick DiCaprio. Ca...</td>\n",
       "      <td>NaN</td>\n",
       "      <td>NaN</td>\n",
       "      <td>NaN</td>\n",
       "      <td>https://twitter.com/dog_rates/status/669324657...</td>\n",
       "      <td>11</td>\n",
       "      <td>10</td>\n",
       "      <td>Ralf</td>\n",
       "      <td>None</td>\n",
       "      <td>None</td>\n",
       "      <td>None</td>\n",
       "      <td>None</td>\n",
       "    </tr>\n",
       "    <tr>\n",
       "      <th>1098</th>\n",
       "      <td>736010884653420544</td>\n",
       "      <td>NaN</td>\n",
       "      <td>NaN</td>\n",
       "      <td>2016-05-27 01:47:23 +0000</td>\n",
       "      <td>&lt;a href=\"http://twitter.com/download/iphone\" r...</td>\n",
       "      <td>Right after you graduate vs when you remember ...</td>\n",
       "      <td>NaN</td>\n",
       "      <td>NaN</td>\n",
       "      <td>NaN</td>\n",
       "      <td>https://twitter.com/dog_rates/status/736010884...</td>\n",
       "      <td>10</td>\n",
       "      <td>10</td>\n",
       "      <td>None</td>\n",
       "      <td>None</td>\n",
       "      <td>None</td>\n",
       "      <td>None</td>\n",
       "      <td>None</td>\n",
       "    </tr>\n",
       "    <tr>\n",
       "      <th>68</th>\n",
       "      <td>879130579576475649</td>\n",
       "      <td>NaN</td>\n",
       "      <td>NaN</td>\n",
       "      <td>2017-06-26 00:13:58 +0000</td>\n",
       "      <td>&lt;a href=\"http://twitter.com/download/iphone\" r...</td>\n",
       "      <td>RT @dog_rates: This is Emmy. She was adopted t...</td>\n",
       "      <td>8.780576e+17</td>\n",
       "      <td>4.196984e+09</td>\n",
       "      <td>2017-06-23 01:10:23 +0000</td>\n",
       "      <td>https://twitter.com/dog_rates/status/878057613...</td>\n",
       "      <td>14</td>\n",
       "      <td>10</td>\n",
       "      <td>Emmy</td>\n",
       "      <td>None</td>\n",
       "      <td>None</td>\n",
       "      <td>None</td>\n",
       "      <td>None</td>\n",
       "    </tr>\n",
       "    <tr>\n",
       "      <th>317</th>\n",
       "      <td>834786237630337024</td>\n",
       "      <td>NaN</td>\n",
       "      <td>NaN</td>\n",
       "      <td>2017-02-23 15:25:23 +0000</td>\n",
       "      <td>&lt;a href=\"http://twitter.com/download/iphone\" r...</td>\n",
       "      <td>This is Tobi. She is properly fetching her sho...</td>\n",
       "      <td>NaN</td>\n",
       "      <td>NaN</td>\n",
       "      <td>NaN</td>\n",
       "      <td>https://twitter.com/dog_rates/status/834786237...</td>\n",
       "      <td>13</td>\n",
       "      <td>10</td>\n",
       "      <td>Tobi</td>\n",
       "      <td>None</td>\n",
       "      <td>None</td>\n",
       "      <td>None</td>\n",
       "      <td>None</td>\n",
       "    </tr>\n",
       "  </tbody>\n",
       "</table>\n",
       "</div>"
      ],
      "text/plain": [
       "                tweet_id  in_reply_to_status_id  in_reply_to_user_id  \\\n",
       "908   757729163776290825                    NaN                  NaN   \n",
       "358   830097400375152640                    NaN                  NaN   \n",
       "687   788039637453406209                    NaN                  NaN   \n",
       "831   768609597686943744                    NaN                  NaN   \n",
       "1132  728760639972315136                    NaN                  NaN   \n",
       "2246  667878741721415682                    NaN                  NaN   \n",
       "2173  669324657376567296                    NaN                  NaN   \n",
       "1098  736010884653420544                    NaN                  NaN   \n",
       "68    879130579576475649                    NaN                  NaN   \n",
       "317   834786237630337024                    NaN                  NaN   \n",
       "\n",
       "                      timestamp  \\\n",
       "908   2016-07-26 00:08:05 +0000   \n",
       "358   2017-02-10 16:53:37 +0000   \n",
       "687   2016-10-17 15:31:05 +0000   \n",
       "831   2016-08-25 00:43:02 +0000   \n",
       "1132  2016-05-07 01:37:30 +0000   \n",
       "2246  2015-11-21 01:34:35 +0000   \n",
       "2173  2015-11-25 01:20:08 +0000   \n",
       "1098  2016-05-27 01:47:23 +0000   \n",
       "68    2017-06-26 00:13:58 +0000   \n",
       "317   2017-02-23 15:25:23 +0000   \n",
       "\n",
       "                                                 source  \\\n",
       "908   <a href=\"http://twitter.com/download/iphone\" r...   \n",
       "358   <a href=\"http://twitter.com/download/iphone\" r...   \n",
       "687   <a href=\"http://twitter.com/download/iphone\" r...   \n",
       "831   <a href=\"http://twitter.com/download/iphone\" r...   \n",
       "1132  <a href=\"http://twitter.com/download/iphone\" r...   \n",
       "2246  <a href=\"http://twitter.com/download/iphone\" r...   \n",
       "2173  <a href=\"http://twitter.com/download/iphone\" r...   \n",
       "1098  <a href=\"http://twitter.com/download/iphone\" r...   \n",
       "68    <a href=\"http://twitter.com/download/iphone\" r...   \n",
       "317   <a href=\"http://twitter.com/download/iphone\" r...   \n",
       "\n",
       "                                                   text  retweeted_status_id  \\\n",
       "908   RT @dog_rates: This is Chompsky. He lives up t...         6.790626e+17   \n",
       "358   Meet Samson. He's absolute fluffy perfection. ...                  NaN   \n",
       "687   Did... did they pick out that license plate? 1...                  NaN   \n",
       "831   This is Lou. His sweater is too small and he a...                  NaN   \n",
       "1132  When you're way too slow for the \"down low\" po...                  NaN   \n",
       "2246  This is Tedrick. He lives on the edge. Needs s...                  NaN   \n",
       "2173  Meet Ralf. He's a miniature Buick DiCaprio. Ca...                  NaN   \n",
       "1098  Right after you graduate vs when you remember ...                  NaN   \n",
       "68    RT @dog_rates: This is Emmy. She was adopted t...         8.780576e+17   \n",
       "317   This is Tobi. She is properly fetching her sho...                  NaN   \n",
       "\n",
       "      retweeted_status_user_id retweeted_status_timestamp  \\\n",
       "908               4.196984e+09  2015-12-21 22:15:18 +0000   \n",
       "358                        NaN                        NaN   \n",
       "687                        NaN                        NaN   \n",
       "831                        NaN                        NaN   \n",
       "1132                       NaN                        NaN   \n",
       "2246                       NaN                        NaN   \n",
       "2173                       NaN                        NaN   \n",
       "1098                       NaN                        NaN   \n",
       "68                4.196984e+09  2017-06-23 01:10:23 +0000   \n",
       "317                        NaN                        NaN   \n",
       "\n",
       "                                          expanded_urls  rating_numerator  \\\n",
       "908   https://twitter.com/dog_rates/status/679062614...                11   \n",
       "358   https://www.gofundme.com/sick-baby-samson,http...                13   \n",
       "687   https://twitter.com/dog_rates/status/788039637...                12   \n",
       "831   https://twitter.com/dog_rates/status/768609597...                10   \n",
       "1132  https://twitter.com/dog_rates/status/728760639...                13   \n",
       "2246  https://twitter.com/dog_rates/status/667878741...                 2   \n",
       "2173  https://twitter.com/dog_rates/status/669324657...                11   \n",
       "1098  https://twitter.com/dog_rates/status/736010884...                10   \n",
       "68    https://twitter.com/dog_rates/status/878057613...                14   \n",
       "317   https://twitter.com/dog_rates/status/834786237...                13   \n",
       "\n",
       "      rating_denominator      name doggo floofer pupper puppo  \n",
       "908                   10  Chompsky  None    None   None  None  \n",
       "358                   10    Samson  None    None   None  None  \n",
       "687                   10      None  None    None   None  None  \n",
       "831                   10       Lou  None    None   None  None  \n",
       "1132                  10      None  None    None   None  None  \n",
       "2246                  10   Tedrick  None    None   None  None  \n",
       "2173                  10      Ralf  None    None   None  None  \n",
       "1098                  10      None  None    None   None  None  \n",
       "68                    10      Emmy  None    None   None  None  \n",
       "317                   10      Tobi  None    None   None  None  "
      ]
     },
     "execution_count": 4,
     "metadata": {},
     "output_type": "execute_result"
    }
   ],
   "source": [
    "twitter_archive_df.sample(10)"
   ]
  },
  {
   "cell_type": "code",
   "execution_count": 5,
   "id": "classical-bloom",
   "metadata": {
    "scrolled": true
   },
   "outputs": [
    {
     "name": "stdout",
     "output_type": "stream",
     "text": [
      "<class 'pandas.core.frame.DataFrame'>\n",
      "RangeIndex: 2356 entries, 0 to 2355\n",
      "Data columns (total 17 columns):\n",
      " #   Column                      Non-Null Count  Dtype  \n",
      "---  ------                      --------------  -----  \n",
      " 0   tweet_id                    2356 non-null   int64  \n",
      " 1   in_reply_to_status_id       78 non-null     float64\n",
      " 2   in_reply_to_user_id         78 non-null     float64\n",
      " 3   timestamp                   2356 non-null   object \n",
      " 4   source                      2356 non-null   object \n",
      " 5   text                        2356 non-null   object \n",
      " 6   retweeted_status_id         181 non-null    float64\n",
      " 7   retweeted_status_user_id    181 non-null    float64\n",
      " 8   retweeted_status_timestamp  181 non-null    object \n",
      " 9   expanded_urls               2297 non-null   object \n",
      " 10  rating_numerator            2356 non-null   int64  \n",
      " 11  rating_denominator          2356 non-null   int64  \n",
      " 12  name                        2356 non-null   object \n",
      " 13  doggo                       2356 non-null   object \n",
      " 14  floofer                     2356 non-null   object \n",
      " 15  pupper                      2356 non-null   object \n",
      " 16  puppo                       2356 non-null   object \n",
      "dtypes: float64(4), int64(3), object(10)\n",
      "memory usage: 313.0+ KB\n"
     ]
    }
   ],
   "source": [
    "twitter_archive_df.info()"
   ]
  },
  {
   "cell_type": "markdown",
   "id": "velvet-trainer",
   "metadata": {},
   "source": [
    "`twitter_archive_df` columns:\n",
    "- **tweet_id**: identifier for each tweet\n",
    "- **in_reply_to_status_id**: if tweet was reply, this field represents id of original tweet ID\n",
    "- **in_reply_to_user_id**: if tweet was reply, this field represents author ID of tweet\n",
    "- **timestamp**: time at which tweet was created\n",
    "- **source**: the source of posting Tweet e.g. Android, ios, or Web \n",
    "- **text**: status update\n",
    "- **retweeted_status_id**: if original tweet is a retweet, this field has original Tweet’s ID\n",
    "- **retweeted_status_user_id**: if original tweet is a retweet, this field holds original Tweet’s author ID\n",
    "- **retweeted_status_timestamp**: retweet time\n",
    "- **expanded_urls**: URL of re-tweet\n",
    "- **rating_numerator**: numerator of the rating of a dog\n",
    "- **rating_denominator**: denominator of the dog rating\n",
    "- **name**: dog name\n",
    "- **doggo, floofer, pupper, and puppo**: 4 dog breeds"
   ]
  },
  {
   "cell_type": "code",
   "execution_count": 6,
   "id": "turkish-cannon",
   "metadata": {
    "scrolled": false
   },
   "outputs": [
    {
     "data": {
      "text/plain": [
       "tweet_id                      2356\n",
       "in_reply_to_status_id           77\n",
       "in_reply_to_user_id             31\n",
       "timestamp                     2356\n",
       "source                           4\n",
       "text                          2356\n",
       "retweeted_status_id            181\n",
       "retweeted_status_user_id        25\n",
       "retweeted_status_timestamp     181\n",
       "expanded_urls                 2218\n",
       "rating_numerator                40\n",
       "rating_denominator              18\n",
       "name                           957\n",
       "doggo                            2\n",
       "floofer                          2\n",
       "pupper                           2\n",
       "puppo                            2\n",
       "dtype: int64"
      ]
     },
     "execution_count": 6,
     "metadata": {},
     "output_type": "execute_result"
    }
   ],
   "source": [
    "twitter_archive_df.nunique()"
   ]
  },
  {
   "cell_type": "code",
   "execution_count": 7,
   "id": "hollow-sydney",
   "metadata": {},
   "outputs": [
    {
     "data": {
      "text/plain": [
       "None       745\n",
       "a           55\n",
       "Charlie     12\n",
       "Oliver      11\n",
       "Cooper      11\n",
       "          ... \n",
       "Rascal       1\n",
       "Joey         1\n",
       "Aldrick      1\n",
       "Poppy        1\n",
       "Zuzu         1\n",
       "Name: name, Length: 957, dtype: int64"
      ]
     },
     "execution_count": 7,
     "metadata": {},
     "output_type": "execute_result"
    }
   ],
   "source": [
    "twitter_archive_df.name.value_counts()"
   ]
  },
  {
   "cell_type": "code",
   "execution_count": 8,
   "id": "friendly-disaster",
   "metadata": {},
   "outputs": [
    {
     "data": {
      "text/plain": [
       "None       2346\n",
       "floofer      10\n",
       "Name: floofer, dtype: int64"
      ]
     },
     "execution_count": 8,
     "metadata": {},
     "output_type": "execute_result"
    }
   ],
   "source": [
    "twitter_archive_df.floofer.value_counts()"
   ]
  },
  {
   "cell_type": "code",
   "execution_count": 9,
   "id": "sexual-fever",
   "metadata": {},
   "outputs": [
    {
     "data": {
      "text/plain": [
       "tweet_id                         0\n",
       "in_reply_to_status_id         2278\n",
       "in_reply_to_user_id           2278\n",
       "timestamp                        0\n",
       "source                           0\n",
       "text                             0\n",
       "retweeted_status_id           2175\n",
       "retweeted_status_user_id      2175\n",
       "retweeted_status_timestamp    2175\n",
       "expanded_urls                   59\n",
       "rating_numerator                 0\n",
       "rating_denominator               0\n",
       "name                             0\n",
       "doggo                            0\n",
       "floofer                          0\n",
       "pupper                           0\n",
       "puppo                            0\n",
       "dtype: int64"
      ]
     },
     "execution_count": 9,
     "metadata": {},
     "output_type": "execute_result"
    }
   ],
   "source": [
    "twitter_archive_df.isnull().sum()"
   ]
  },
  {
   "cell_type": "code",
   "execution_count": 10,
   "id": "beginning-proof",
   "metadata": {},
   "outputs": [
    {
     "data": {
      "text/plain": [
       "2175"
      ]
     },
     "execution_count": 10,
     "metadata": {},
     "output_type": "execute_result"
    }
   ],
   "source": [
    "twitter_archive_df.retweeted_status_id.isnull().sum() # number of posts(original tweets) which are not retweeted"
   ]
  },
  {
   "cell_type": "code",
   "execution_count": 11,
   "id": "requested-topic",
   "metadata": {},
   "outputs": [
    {
     "data": {
      "text/plain": [
       "2278"
      ]
     },
     "execution_count": 11,
     "metadata": {},
     "output_type": "execute_result"
    }
   ],
   "source": [
    "len(twitter_archive_df[twitter_archive_df.in_reply_to_status_id.isna()])"
   ]
  },
  {
   "cell_type": "code",
   "execution_count": 12,
   "id": "coated-summer",
   "metadata": {},
   "outputs": [
    {
     "data": {
      "text/plain": [
       "\"This is Phineas. He's a mystical boy. Only ever appears in the hole of a donut. 13/10 https://t.co/MgUWQ76dJU\""
      ]
     },
     "execution_count": 12,
     "metadata": {},
     "output_type": "execute_result"
    }
   ],
   "source": [
    "twitter_archive_df.text[0]"
   ]
  },
  {
   "cell_type": "code",
   "execution_count": 13,
   "id": "dental-alert",
   "metadata": {},
   "outputs": [
    {
     "data": {
      "text/plain": [
       "\"RT @dog_rates: This is Mattie. She's extremely dangerous. Will bite your h*ckin finger right off. Still 11/10 would pet with caution https:…\""
      ]
     },
     "execution_count": 13,
     "metadata": {},
     "output_type": "execute_result"
    }
   ],
   "source": [
    "twitter_archive_df.text[420]"
   ]
  },
  {
   "cell_type": "code",
   "execution_count": 14,
   "id": "adequate-finder",
   "metadata": {},
   "outputs": [
    {
     "data": {
      "text/plain": [
       "\"This is Mattie. She's extremely dangerous. Will bite your h*ckin finger right off. Still 11/10 would pet with caution https://t.co/78c9W8kLFh\""
      ]
     },
     "execution_count": 14,
     "metadata": {},
     "output_type": "execute_result"
    }
   ],
   "source": [
    "twitter_archive_df.text[700]"
   ]
  },
  {
   "cell_type": "code",
   "execution_count": 15,
   "id": "hundred-beauty",
   "metadata": {
    "scrolled": true
   },
   "outputs": [
    {
     "data": {
      "text/plain": [
       "12      558\n",
       "11      464\n",
       "10      461\n",
       "13      351\n",
       "9       158\n",
       "8       102\n",
       "7        55\n",
       "14       54\n",
       "5        37\n",
       "6        32\n",
       "3        19\n",
       "4        17\n",
       "1         9\n",
       "2         9\n",
       "420       2\n",
       "0         2\n",
       "15        2\n",
       "75        2\n",
       "80        1\n",
       "20        1\n",
       "24        1\n",
       "26        1\n",
       "44        1\n",
       "50        1\n",
       "60        1\n",
       "165       1\n",
       "84        1\n",
       "88        1\n",
       "144       1\n",
       "182       1\n",
       "143       1\n",
       "666       1\n",
       "960       1\n",
       "1776      1\n",
       "17        1\n",
       "27        1\n",
       "45        1\n",
       "99        1\n",
       "121       1\n",
       "204       1\n",
       "Name: rating_numerator, dtype: int64"
      ]
     },
     "execution_count": 15,
     "metadata": {},
     "output_type": "execute_result"
    }
   ],
   "source": [
    "twitter_archive_df.rating_numerator.value_counts() \n",
    "# most of values in range[4-12], but sometimes we have very high values e.g. 1776, 960, 666"
   ]
  },
  {
   "cell_type": "code",
   "execution_count": 16,
   "id": "touched-charm",
   "metadata": {},
   "outputs": [
    {
     "data": {
      "text/html": [
       "<div>\n",
       "<style scoped>\n",
       "    .dataframe tbody tr th:only-of-type {\n",
       "        vertical-align: middle;\n",
       "    }\n",
       "\n",
       "    .dataframe tbody tr th {\n",
       "        vertical-align: top;\n",
       "    }\n",
       "\n",
       "    .dataframe thead th {\n",
       "        text-align: right;\n",
       "    }\n",
       "</style>\n",
       "<table border=\"1\" class=\"dataframe\">\n",
       "  <thead>\n",
       "    <tr style=\"text-align: right;\">\n",
       "      <th></th>\n",
       "      <th>tweet_id</th>\n",
       "      <th>in_reply_to_status_id</th>\n",
       "      <th>in_reply_to_user_id</th>\n",
       "      <th>timestamp</th>\n",
       "      <th>source</th>\n",
       "      <th>text</th>\n",
       "      <th>retweeted_status_id</th>\n",
       "      <th>retweeted_status_user_id</th>\n",
       "      <th>retweeted_status_timestamp</th>\n",
       "      <th>expanded_urls</th>\n",
       "      <th>rating_numerator</th>\n",
       "      <th>rating_denominator</th>\n",
       "      <th>name</th>\n",
       "      <th>doggo</th>\n",
       "      <th>floofer</th>\n",
       "      <th>pupper</th>\n",
       "      <th>puppo</th>\n",
       "    </tr>\n",
       "  </thead>\n",
       "  <tbody>\n",
       "    <tr>\n",
       "      <th>313</th>\n",
       "      <td>835246439529840640</td>\n",
       "      <td>8.352460e+17</td>\n",
       "      <td>26259576.0</td>\n",
       "      <td>2017-02-24 21:54:03 +0000</td>\n",
       "      <td>&lt;a href=\"http://twitter.com/download/iphone\" r...</td>\n",
       "      <td>@jonnysun @Lin_Manuel ok jomny I know you're e...</td>\n",
       "      <td>NaN</td>\n",
       "      <td>NaN</td>\n",
       "      <td>NaN</td>\n",
       "      <td>NaN</td>\n",
       "      <td>960</td>\n",
       "      <td>0</td>\n",
       "      <td>None</td>\n",
       "      <td>None</td>\n",
       "      <td>None</td>\n",
       "      <td>None</td>\n",
       "      <td>None</td>\n",
       "    </tr>\n",
       "  </tbody>\n",
       "</table>\n",
       "</div>"
      ],
      "text/plain": [
       "               tweet_id  in_reply_to_status_id  in_reply_to_user_id  \\\n",
       "313  835246439529840640           8.352460e+17           26259576.0   \n",
       "\n",
       "                     timestamp  \\\n",
       "313  2017-02-24 21:54:03 +0000   \n",
       "\n",
       "                                                source  \\\n",
       "313  <a href=\"http://twitter.com/download/iphone\" r...   \n",
       "\n",
       "                                                  text  retweeted_status_id  \\\n",
       "313  @jonnysun @Lin_Manuel ok jomny I know you're e...                  NaN   \n",
       "\n",
       "     retweeted_status_user_id retweeted_status_timestamp expanded_urls  \\\n",
       "313                       NaN                        NaN           NaN   \n",
       "\n",
       "     rating_numerator  rating_denominator  name doggo floofer pupper puppo  \n",
       "313               960                   0  None  None    None   None  None  "
      ]
     },
     "execution_count": 16,
     "metadata": {},
     "output_type": "execute_result"
    }
   ],
   "source": [
    "twitter_archive_df[twitter_archive_df.rating_denominator==0]"
   ]
  },
  {
   "cell_type": "code",
   "execution_count": 17,
   "id": "peripheral-vintage",
   "metadata": {},
   "outputs": [
    {
     "data": {
      "text/plain": [
       "13"
      ]
     },
     "execution_count": 17,
     "metadata": {},
     "output_type": "execute_result"
    }
   ],
   "source": [
    "int(twitter_archive_df.rating_numerator.mean())"
   ]
  },
  {
   "cell_type": "code",
   "execution_count": 18,
   "id": "former-belief",
   "metadata": {
    "scrolled": true
   },
   "outputs": [
    {
     "data": {
      "text/html": [
       "<div>\n",
       "<style scoped>\n",
       "    .dataframe tbody tr th:only-of-type {\n",
       "        vertical-align: middle;\n",
       "    }\n",
       "\n",
       "    .dataframe tbody tr th {\n",
       "        vertical-align: top;\n",
       "    }\n",
       "\n",
       "    .dataframe thead th {\n",
       "        text-align: right;\n",
       "    }\n",
       "</style>\n",
       "<table border=\"1\" class=\"dataframe\">\n",
       "  <thead>\n",
       "    <tr style=\"text-align: right;\">\n",
       "      <th></th>\n",
       "      <th>tweet_id</th>\n",
       "      <th>in_reply_to_status_id</th>\n",
       "      <th>in_reply_to_user_id</th>\n",
       "      <th>timestamp</th>\n",
       "      <th>source</th>\n",
       "      <th>text</th>\n",
       "      <th>retweeted_status_id</th>\n",
       "      <th>retweeted_status_user_id</th>\n",
       "      <th>retweeted_status_timestamp</th>\n",
       "      <th>expanded_urls</th>\n",
       "      <th>rating_numerator</th>\n",
       "      <th>rating_denominator</th>\n",
       "      <th>name</th>\n",
       "      <th>doggo</th>\n",
       "      <th>floofer</th>\n",
       "      <th>pupper</th>\n",
       "      <th>puppo</th>\n",
       "    </tr>\n",
       "  </thead>\n",
       "  <tbody>\n",
       "    <tr>\n",
       "      <th>979</th>\n",
       "      <td>749981277374128128</td>\n",
       "      <td>NaN</td>\n",
       "      <td>NaN</td>\n",
       "      <td>2016-07-04 15:00:45 +0000</td>\n",
       "      <td>&lt;a href=\"https://about.twitter.com/products/tw...</td>\n",
       "      <td>This is Atticus. He's quite simply America af....</td>\n",
       "      <td>NaN</td>\n",
       "      <td>NaN</td>\n",
       "      <td>NaN</td>\n",
       "      <td>https://twitter.com/dog_rates/status/749981277...</td>\n",
       "      <td>1776</td>\n",
       "      <td>10</td>\n",
       "      <td>Atticus</td>\n",
       "      <td>None</td>\n",
       "      <td>None</td>\n",
       "      <td>None</td>\n",
       "      <td>None</td>\n",
       "    </tr>\n",
       "  </tbody>\n",
       "</table>\n",
       "</div>"
      ],
      "text/plain": [
       "               tweet_id  in_reply_to_status_id  in_reply_to_user_id  \\\n",
       "979  749981277374128128                    NaN                  NaN   \n",
       "\n",
       "                     timestamp  \\\n",
       "979  2016-07-04 15:00:45 +0000   \n",
       "\n",
       "                                                source  \\\n",
       "979  <a href=\"https://about.twitter.com/products/tw...   \n",
       "\n",
       "                                                  text  retweeted_status_id  \\\n",
       "979  This is Atticus. He's quite simply America af....                  NaN   \n",
       "\n",
       "     retweeted_status_user_id retweeted_status_timestamp  \\\n",
       "979                       NaN                        NaN   \n",
       "\n",
       "                                         expanded_urls  rating_numerator  \\\n",
       "979  https://twitter.com/dog_rates/status/749981277...              1776   \n",
       "\n",
       "     rating_denominator     name doggo floofer pupper puppo  \n",
       "979                  10  Atticus  None    None   None  None  "
      ]
     },
     "execution_count": 18,
     "metadata": {},
     "output_type": "execute_result"
    }
   ],
   "source": [
    "twitter_archive_df[twitter_archive_df.rating_numerator==1776]"
   ]
  },
  {
   "cell_type": "code",
   "execution_count": 19,
   "id": "removed-selection",
   "metadata": {},
   "outputs": [
    {
     "data": {
      "text/plain": [
       "\"This is Atticus. He's quite simply America af. 1776/10 https://t.co/GRXwMxLBkh\""
      ]
     },
     "execution_count": 19,
     "metadata": {},
     "output_type": "execute_result"
    }
   ],
   "source": [
    "twitter_archive_df.iloc[979].text"
   ]
  },
  {
   "cell_type": "code",
   "execution_count": 20,
   "id": "therapeutic-jacket",
   "metadata": {
    "scrolled": false
   },
   "outputs": [
    {
     "data": {
      "text/plain": [
       "10     2333\n",
       "11        3\n",
       "50        3\n",
       "80        2\n",
       "20        2\n",
       "2         1\n",
       "16        1\n",
       "40        1\n",
       "70        1\n",
       "15        1\n",
       "90        1\n",
       "110       1\n",
       "120       1\n",
       "130       1\n",
       "150       1\n",
       "170       1\n",
       "7         1\n",
       "0         1\n",
       "Name: rating_denominator, dtype: int64"
      ]
     },
     "execution_count": 20,
     "metadata": {},
     "output_type": "execute_result"
    }
   ],
   "source": [
    "twitter_archive_df.rating_denominator.value_counts()"
   ]
  },
  {
   "cell_type": "code",
   "execution_count": null,
   "id": "chemical-reception",
   "metadata": {},
   "outputs": [],
   "source": []
  },
  {
   "cell_type": "code",
   "execution_count": null,
   "id": "grateful-spouse",
   "metadata": {},
   "outputs": [],
   "source": []
  },
  {
   "cell_type": "code",
   "execution_count": 21,
   "id": "defined-matthew",
   "metadata": {
    "scrolled": true
   },
   "outputs": [
    {
     "data": {
      "text/html": [
       "<div>\n",
       "<style scoped>\n",
       "    .dataframe tbody tr th:only-of-type {\n",
       "        vertical-align: middle;\n",
       "    }\n",
       "\n",
       "    .dataframe tbody tr th {\n",
       "        vertical-align: top;\n",
       "    }\n",
       "\n",
       "    .dataframe thead th {\n",
       "        text-align: right;\n",
       "    }\n",
       "</style>\n",
       "<table border=\"1\" class=\"dataframe\">\n",
       "  <thead>\n",
       "    <tr style=\"text-align: right;\">\n",
       "      <th></th>\n",
       "      <th>tweet_id</th>\n",
       "      <th>jpg_url</th>\n",
       "      <th>img_num</th>\n",
       "      <th>p1</th>\n",
       "      <th>p1_conf</th>\n",
       "      <th>p1_dog</th>\n",
       "      <th>p2</th>\n",
       "      <th>p2_conf</th>\n",
       "      <th>p2_dog</th>\n",
       "      <th>p3</th>\n",
       "      <th>p3_conf</th>\n",
       "      <th>p3_dog</th>\n",
       "    </tr>\n",
       "  </thead>\n",
       "  <tbody>\n",
       "    <tr>\n",
       "      <th>1159</th>\n",
       "      <td>733828123016450049</td>\n",
       "      <td>https://pbs.twimg.com/media/Ci8UxxcW0AYgHDh.jpg</td>\n",
       "      <td>2</td>\n",
       "      <td>beagle</td>\n",
       "      <td>0.472324</td>\n",
       "      <td>True</td>\n",
       "      <td>Walker_hound</td>\n",
       "      <td>0.121779</td>\n",
       "      <td>True</td>\n",
       "      <td>Saint_Bernard</td>\n",
       "      <td>0.114640</td>\n",
       "      <td>True</td>\n",
       "    </tr>\n",
       "    <tr>\n",
       "      <th>428</th>\n",
       "      <td>674262580978937856</td>\n",
       "      <td>https://pbs.twimg.com/media/CVt2PawWIAEUkqW.jpg</td>\n",
       "      <td>1</td>\n",
       "      <td>Greater_Swiss_Mountain_dog</td>\n",
       "      <td>0.519428</td>\n",
       "      <td>True</td>\n",
       "      <td>boxer</td>\n",
       "      <td>0.121500</td>\n",
       "      <td>True</td>\n",
       "      <td>Staffordshire_bullterrier</td>\n",
       "      <td>0.114498</td>\n",
       "      <td>True</td>\n",
       "    </tr>\n",
       "    <tr>\n",
       "      <th>1626</th>\n",
       "      <td>804026241225523202</td>\n",
       "      <td>https://pbs.twimg.com/media/Cyh5mQTW8AQpB6K.jpg</td>\n",
       "      <td>1</td>\n",
       "      <td>web_site</td>\n",
       "      <td>0.492709</td>\n",
       "      <td>False</td>\n",
       "      <td>envelope</td>\n",
       "      <td>0.050566</td>\n",
       "      <td>False</td>\n",
       "      <td>guillotine</td>\n",
       "      <td>0.015297</td>\n",
       "      <td>False</td>\n",
       "    </tr>\n",
       "    <tr>\n",
       "      <th>2031</th>\n",
       "      <td>883117836046086144</td>\n",
       "      <td>https://pbs.twimg.com/media/DEF2-_hXoAAs62q.jpg</td>\n",
       "      <td>2</td>\n",
       "      <td>golden_retriever</td>\n",
       "      <td>0.949562</td>\n",
       "      <td>True</td>\n",
       "      <td>Labrador_retriever</td>\n",
       "      <td>0.045948</td>\n",
       "      <td>True</td>\n",
       "      <td>kuvasz</td>\n",
       "      <td>0.002471</td>\n",
       "      <td>True</td>\n",
       "    </tr>\n",
       "    <tr>\n",
       "      <th>1418</th>\n",
       "      <td>771380798096281600</td>\n",
       "      <td>https://pbs.twimg.com/media/CrR-vVfXEAAk6Gg.jpg</td>\n",
       "      <td>1</td>\n",
       "      <td>collie</td>\n",
       "      <td>0.503728</td>\n",
       "      <td>True</td>\n",
       "      <td>Border_collie</td>\n",
       "      <td>0.450944</td>\n",
       "      <td>True</td>\n",
       "      <td>English_springer</td>\n",
       "      <td>0.012693</td>\n",
       "      <td>True</td>\n",
       "    </tr>\n",
       "    <tr>\n",
       "      <th>259</th>\n",
       "      <td>670782429121134593</td>\n",
       "      <td>https://pbs.twimg.com/media/CU8ZDu9WwAADg3N.jpg</td>\n",
       "      <td>1</td>\n",
       "      <td>Chihuahua</td>\n",
       "      <td>0.952963</td>\n",
       "      <td>True</td>\n",
       "      <td>French_bulldog</td>\n",
       "      <td>0.036575</td>\n",
       "      <td>True</td>\n",
       "      <td>Boston_bull</td>\n",
       "      <td>0.001977</td>\n",
       "      <td>True</td>\n",
       "    </tr>\n",
       "    <tr>\n",
       "      <th>1717</th>\n",
       "      <td>819015331746349057</td>\n",
       "      <td>https://pbs.twimg.com/media/C12x-JTVIAAzdfl.jpg</td>\n",
       "      <td>4</td>\n",
       "      <td>prison</td>\n",
       "      <td>0.907083</td>\n",
       "      <td>False</td>\n",
       "      <td>palace</td>\n",
       "      <td>0.020089</td>\n",
       "      <td>False</td>\n",
       "      <td>umbrella</td>\n",
       "      <td>0.007850</td>\n",
       "      <td>False</td>\n",
       "    </tr>\n",
       "    <tr>\n",
       "      <th>2073</th>\n",
       "      <td>892177421306343426</td>\n",
       "      <td>https://pbs.twimg.com/media/DGGmoV4XsAAUL6n.jpg</td>\n",
       "      <td>1</td>\n",
       "      <td>Chihuahua</td>\n",
       "      <td>0.323581</td>\n",
       "      <td>True</td>\n",
       "      <td>Pekinese</td>\n",
       "      <td>0.090647</td>\n",
       "      <td>True</td>\n",
       "      <td>papillon</td>\n",
       "      <td>0.068957</td>\n",
       "      <td>True</td>\n",
       "    </tr>\n",
       "    <tr>\n",
       "      <th>265</th>\n",
       "      <td>670803562457407488</td>\n",
       "      <td>https://pbs.twimg.com/media/CU8sSAvXIAAB1Py.jpg</td>\n",
       "      <td>1</td>\n",
       "      <td>basenji</td>\n",
       "      <td>0.344101</td>\n",
       "      <td>True</td>\n",
       "      <td>Ibizan_hound</td>\n",
       "      <td>0.210282</td>\n",
       "      <td>True</td>\n",
       "      <td>toy_terrier</td>\n",
       "      <td>0.196279</td>\n",
       "      <td>True</td>\n",
       "    </tr>\n",
       "    <tr>\n",
       "      <th>1958</th>\n",
       "      <td>865359393868664832</td>\n",
       "      <td>https://pbs.twimg.com/media/DAJfxqGVoAAnvQt.jpg</td>\n",
       "      <td>2</td>\n",
       "      <td>Chesapeake_Bay_retriever</td>\n",
       "      <td>0.832435</td>\n",
       "      <td>True</td>\n",
       "      <td>Labrador_retriever</td>\n",
       "      <td>0.163551</td>\n",
       "      <td>True</td>\n",
       "      <td>Weimaraner</td>\n",
       "      <td>0.002770</td>\n",
       "      <td>True</td>\n",
       "    </tr>\n",
       "  </tbody>\n",
       "</table>\n",
       "</div>"
      ],
      "text/plain": [
       "                tweet_id                                          jpg_url  \\\n",
       "1159  733828123016450049  https://pbs.twimg.com/media/Ci8UxxcW0AYgHDh.jpg   \n",
       "428   674262580978937856  https://pbs.twimg.com/media/CVt2PawWIAEUkqW.jpg   \n",
       "1626  804026241225523202  https://pbs.twimg.com/media/Cyh5mQTW8AQpB6K.jpg   \n",
       "2031  883117836046086144  https://pbs.twimg.com/media/DEF2-_hXoAAs62q.jpg   \n",
       "1418  771380798096281600  https://pbs.twimg.com/media/CrR-vVfXEAAk6Gg.jpg   \n",
       "259   670782429121134593  https://pbs.twimg.com/media/CU8ZDu9WwAADg3N.jpg   \n",
       "1717  819015331746349057  https://pbs.twimg.com/media/C12x-JTVIAAzdfl.jpg   \n",
       "2073  892177421306343426  https://pbs.twimg.com/media/DGGmoV4XsAAUL6n.jpg   \n",
       "265   670803562457407488  https://pbs.twimg.com/media/CU8sSAvXIAAB1Py.jpg   \n",
       "1958  865359393868664832  https://pbs.twimg.com/media/DAJfxqGVoAAnvQt.jpg   \n",
       "\n",
       "      img_num                          p1   p1_conf  p1_dog  \\\n",
       "1159        2                      beagle  0.472324    True   \n",
       "428         1  Greater_Swiss_Mountain_dog  0.519428    True   \n",
       "1626        1                    web_site  0.492709   False   \n",
       "2031        2            golden_retriever  0.949562    True   \n",
       "1418        1                      collie  0.503728    True   \n",
       "259         1                   Chihuahua  0.952963    True   \n",
       "1717        4                      prison  0.907083   False   \n",
       "2073        1                   Chihuahua  0.323581    True   \n",
       "265         1                     basenji  0.344101    True   \n",
       "1958        2    Chesapeake_Bay_retriever  0.832435    True   \n",
       "\n",
       "                      p2   p2_conf  p2_dog                         p3  \\\n",
       "1159        Walker_hound  0.121779    True              Saint_Bernard   \n",
       "428                boxer  0.121500    True  Staffordshire_bullterrier   \n",
       "1626            envelope  0.050566   False                 guillotine   \n",
       "2031  Labrador_retriever  0.045948    True                     kuvasz   \n",
       "1418       Border_collie  0.450944    True           English_springer   \n",
       "259       French_bulldog  0.036575    True                Boston_bull   \n",
       "1717              palace  0.020089   False                   umbrella   \n",
       "2073            Pekinese  0.090647    True                   papillon   \n",
       "265         Ibizan_hound  0.210282    True                toy_terrier   \n",
       "1958  Labrador_retriever  0.163551    True                 Weimaraner   \n",
       "\n",
       "       p3_conf  p3_dog  \n",
       "1159  0.114640    True  \n",
       "428   0.114498    True  \n",
       "1626  0.015297   False  \n",
       "2031  0.002471    True  \n",
       "1418  0.012693    True  \n",
       "259   0.001977    True  \n",
       "1717  0.007850   False  \n",
       "2073  0.068957    True  \n",
       "265   0.196279    True  \n",
       "1958  0.002770    True  "
      ]
     },
     "execution_count": 21,
     "metadata": {},
     "output_type": "execute_result"
    }
   ],
   "source": [
    "image_predic_df.sample(10)"
   ]
  },
  {
   "cell_type": "code",
   "execution_count": 22,
   "id": "amended-stake",
   "metadata": {
    "scrolled": false
   },
   "outputs": [
    {
     "name": "stdout",
     "output_type": "stream",
     "text": [
      "<class 'pandas.core.frame.DataFrame'>\n",
      "RangeIndex: 2075 entries, 0 to 2074\n",
      "Data columns (total 12 columns):\n",
      " #   Column    Non-Null Count  Dtype  \n",
      "---  ------    --------------  -----  \n",
      " 0   tweet_id  2075 non-null   int64  \n",
      " 1   jpg_url   2075 non-null   object \n",
      " 2   img_num   2075 non-null   int64  \n",
      " 3   p1        2075 non-null   object \n",
      " 4   p1_conf   2075 non-null   float64\n",
      " 5   p1_dog    2075 non-null   bool   \n",
      " 6   p2        2075 non-null   object \n",
      " 7   p2_conf   2075 non-null   float64\n",
      " 8   p2_dog    2075 non-null   bool   \n",
      " 9   p3        2075 non-null   object \n",
      " 10  p3_conf   2075 non-null   float64\n",
      " 11  p3_dog    2075 non-null   bool   \n",
      "dtypes: bool(3), float64(3), int64(2), object(4)\n",
      "memory usage: 152.1+ KB\n"
     ]
    }
   ],
   "source": [
    "image_predic_df.info()"
   ]
  },
  {
   "cell_type": "markdown",
   "id": "naughty-murray",
   "metadata": {},
   "source": [
    "`image_predic_df` columns:\n",
    "- **jpg_url**: URL of dog image\n",
    "- **img_num**: number of dog image predicition (we have 4 dogs!)\n",
    "- **p1**: result of predicition using Algo.1\n",
    "- **p1_conf**: predicition ratio using Algo.1\n",
    "- **p1_dog**: whether the prediction of Algo.1 meet the actual a breed of dog\n",
    "- -----------------------------------------------------------------------------\n",
    "similar definations for Algorithms 2 and 3"
   ]
  },
  {
   "cell_type": "code",
   "execution_count": 23,
   "id": "prescribed-business",
   "metadata": {},
   "outputs": [
    {
     "data": {
      "text/plain": [
       "2075"
      ]
     },
     "execution_count": 23,
     "metadata": {},
     "output_type": "execute_result"
    }
   ],
   "source": [
    "image_predic_df.tweet_id.isin(twitter_archive_df.tweet_id).sum()"
   ]
  },
  {
   "cell_type": "code",
   "execution_count": 24,
   "id": "falling-premiere",
   "metadata": {},
   "outputs": [
    {
     "data": {
      "text/html": [
       "<div>\n",
       "<style scoped>\n",
       "    .dataframe tbody tr th:only-of-type {\n",
       "        vertical-align: middle;\n",
       "    }\n",
       "\n",
       "    .dataframe tbody tr th {\n",
       "        vertical-align: top;\n",
       "    }\n",
       "\n",
       "    .dataframe thead th {\n",
       "        text-align: right;\n",
       "    }\n",
       "</style>\n",
       "<table border=\"1\" class=\"dataframe\">\n",
       "  <thead>\n",
       "    <tr style=\"text-align: right;\">\n",
       "      <th></th>\n",
       "      <th>tweet_id</th>\n",
       "      <th>jpg_url</th>\n",
       "      <th>img_num</th>\n",
       "      <th>p1</th>\n",
       "      <th>p1_conf</th>\n",
       "      <th>p1_dog</th>\n",
       "      <th>p2</th>\n",
       "      <th>p2_conf</th>\n",
       "      <th>p2_dog</th>\n",
       "      <th>p3</th>\n",
       "      <th>p3_conf</th>\n",
       "      <th>p3_dog</th>\n",
       "    </tr>\n",
       "  </thead>\n",
       "  <tbody>\n",
       "  </tbody>\n",
       "</table>\n",
       "</div>"
      ],
      "text/plain": [
       "Empty DataFrame\n",
       "Columns: [tweet_id, jpg_url, img_num, p1, p1_conf, p1_dog, p2, p2_conf, p2_dog, p3, p3_conf, p3_dog]\n",
       "Index: []"
      ]
     },
     "execution_count": 24,
     "metadata": {},
     "output_type": "execute_result"
    }
   ],
   "source": [
    "image_predic_df[image_predic_df.duplicated()]"
   ]
  },
  {
   "cell_type": "code",
   "execution_count": 25,
   "id": "macro-motivation",
   "metadata": {},
   "outputs": [
    {
     "data": {
      "text/html": [
       "<div>\n",
       "<style scoped>\n",
       "    .dataframe tbody tr th:only-of-type {\n",
       "        vertical-align: middle;\n",
       "    }\n",
       "\n",
       "    .dataframe tbody tr th {\n",
       "        vertical-align: top;\n",
       "    }\n",
       "\n",
       "    .dataframe thead th {\n",
       "        text-align: right;\n",
       "    }\n",
       "</style>\n",
       "<table border=\"1\" class=\"dataframe\">\n",
       "  <thead>\n",
       "    <tr style=\"text-align: right;\">\n",
       "      <th></th>\n",
       "      <th>tweet_id</th>\n",
       "      <th>retweet_count</th>\n",
       "      <th>like_count</th>\n",
       "    </tr>\n",
       "  </thead>\n",
       "  <tbody>\n",
       "    <tr>\n",
       "      <th>1831</th>\n",
       "      <td>676146341966438401</td>\n",
       "      <td>744</td>\n",
       "      <td>2077</td>\n",
       "    </tr>\n",
       "    <tr>\n",
       "      <th>58</th>\n",
       "      <td>880872448815771648</td>\n",
       "      <td>3989</td>\n",
       "      <td>21734</td>\n",
       "    </tr>\n",
       "    <tr>\n",
       "      <th>1971</th>\n",
       "      <td>673213039743795200</td>\n",
       "      <td>929</td>\n",
       "      <td>2410</td>\n",
       "    </tr>\n",
       "    <tr>\n",
       "      <th>409</th>\n",
       "      <td>823322678127919110</td>\n",
       "      <td>4637</td>\n",
       "      <td>17437</td>\n",
       "    </tr>\n",
       "    <tr>\n",
       "      <th>2179</th>\n",
       "      <td>668994913074286592</td>\n",
       "      <td>254</td>\n",
       "      <td>468</td>\n",
       "    </tr>\n",
       "    <tr>\n",
       "      <th>1352</th>\n",
       "      <td>703631701117943808</td>\n",
       "      <td>772</td>\n",
       "      <td>2853</td>\n",
       "    </tr>\n",
       "    <tr>\n",
       "      <th>1291</th>\n",
       "      <td>708026248782585858</td>\n",
       "      <td>2166</td>\n",
       "      <td>4799</td>\n",
       "    </tr>\n",
       "    <tr>\n",
       "      <th>2160</th>\n",
       "      <td>669393256313184256</td>\n",
       "      <td>83</td>\n",
       "      <td>383</td>\n",
       "    </tr>\n",
       "    <tr>\n",
       "      <th>1539</th>\n",
       "      <td>689623661272240129</td>\n",
       "      <td>748</td>\n",
       "      <td>2467</td>\n",
       "    </tr>\n",
       "    <tr>\n",
       "      <th>190</th>\n",
       "      <td>855851453814013952</td>\n",
       "      <td>19196</td>\n",
       "      <td>47844</td>\n",
       "    </tr>\n",
       "  </tbody>\n",
       "</table>\n",
       "</div>"
      ],
      "text/plain": [
       "                tweet_id  retweet_count  like_count\n",
       "1831  676146341966438401            744        2077\n",
       "58    880872448815771648           3989       21734\n",
       "1971  673213039743795200            929        2410\n",
       "409   823322678127919110           4637       17437\n",
       "2179  668994913074286592            254         468\n",
       "1352  703631701117943808            772        2853\n",
       "1291  708026248782585858           2166        4799\n",
       "2160  669393256313184256             83         383\n",
       "1539  689623661272240129            748        2467\n",
       "190   855851453814013952          19196       47844"
      ]
     },
     "execution_count": 25,
     "metadata": {},
     "output_type": "execute_result"
    }
   ],
   "source": [
    "tweets_df.sample(10)"
   ]
  },
  {
   "cell_type": "code",
   "execution_count": 26,
   "id": "chemical-holly",
   "metadata": {
    "scrolled": false
   },
   "outputs": [
    {
     "name": "stdout",
     "output_type": "stream",
     "text": [
      "<class 'pandas.core.frame.DataFrame'>\n",
      "RangeIndex: 2354 entries, 0 to 2353\n",
      "Data columns (total 3 columns):\n",
      " #   Column         Non-Null Count  Dtype\n",
      "---  ------         --------------  -----\n",
      " 0   tweet_id       2354 non-null   int64\n",
      " 1   retweet_count  2354 non-null   int64\n",
      " 2   like_count     2354 non-null   int64\n",
      "dtypes: int64(3)\n",
      "memory usage: 55.3 KB\n"
     ]
    }
   ],
   "source": [
    "tweets_df.info()"
   ]
  },
  {
   "cell_type": "code",
   "execution_count": 27,
   "id": "narrative-carbon",
   "metadata": {},
   "outputs": [
    {
     "data": {
      "text/html": [
       "<div>\n",
       "<style scoped>\n",
       "    .dataframe tbody tr th:only-of-type {\n",
       "        vertical-align: middle;\n",
       "    }\n",
       "\n",
       "    .dataframe tbody tr th {\n",
       "        vertical-align: top;\n",
       "    }\n",
       "\n",
       "    .dataframe thead th {\n",
       "        text-align: right;\n",
       "    }\n",
       "</style>\n",
       "<table border=\"1\" class=\"dataframe\">\n",
       "  <thead>\n",
       "    <tr style=\"text-align: right;\">\n",
       "      <th></th>\n",
       "      <th>tweet_id</th>\n",
       "      <th>img_num</th>\n",
       "      <th>p1_conf</th>\n",
       "      <th>p2_conf</th>\n",
       "      <th>p3_conf</th>\n",
       "    </tr>\n",
       "  </thead>\n",
       "  <tbody>\n",
       "    <tr>\n",
       "      <th>count</th>\n",
       "      <td>2.075000e+03</td>\n",
       "      <td>2075.000000</td>\n",
       "      <td>2075.000000</td>\n",
       "      <td>2.075000e+03</td>\n",
       "      <td>2.075000e+03</td>\n",
       "    </tr>\n",
       "    <tr>\n",
       "      <th>mean</th>\n",
       "      <td>7.384514e+17</td>\n",
       "      <td>1.203855</td>\n",
       "      <td>0.594548</td>\n",
       "      <td>1.345886e-01</td>\n",
       "      <td>6.032417e-02</td>\n",
       "    </tr>\n",
       "    <tr>\n",
       "      <th>std</th>\n",
       "      <td>6.785203e+16</td>\n",
       "      <td>0.561875</td>\n",
       "      <td>0.271174</td>\n",
       "      <td>1.006657e-01</td>\n",
       "      <td>5.090593e-02</td>\n",
       "    </tr>\n",
       "    <tr>\n",
       "      <th>min</th>\n",
       "      <td>6.660209e+17</td>\n",
       "      <td>1.000000</td>\n",
       "      <td>0.044333</td>\n",
       "      <td>1.011300e-08</td>\n",
       "      <td>1.740170e-10</td>\n",
       "    </tr>\n",
       "    <tr>\n",
       "      <th>25%</th>\n",
       "      <td>6.764835e+17</td>\n",
       "      <td>1.000000</td>\n",
       "      <td>0.364412</td>\n",
       "      <td>5.388625e-02</td>\n",
       "      <td>1.622240e-02</td>\n",
       "    </tr>\n",
       "    <tr>\n",
       "      <th>50%</th>\n",
       "      <td>7.119988e+17</td>\n",
       "      <td>1.000000</td>\n",
       "      <td>0.588230</td>\n",
       "      <td>1.181810e-01</td>\n",
       "      <td>4.944380e-02</td>\n",
       "    </tr>\n",
       "    <tr>\n",
       "      <th>75%</th>\n",
       "      <td>7.932034e+17</td>\n",
       "      <td>1.000000</td>\n",
       "      <td>0.843855</td>\n",
       "      <td>1.955655e-01</td>\n",
       "      <td>9.180755e-02</td>\n",
       "    </tr>\n",
       "    <tr>\n",
       "      <th>max</th>\n",
       "      <td>8.924206e+17</td>\n",
       "      <td>4.000000</td>\n",
       "      <td>1.000000</td>\n",
       "      <td>4.880140e-01</td>\n",
       "      <td>2.734190e-01</td>\n",
       "    </tr>\n",
       "  </tbody>\n",
       "</table>\n",
       "</div>"
      ],
      "text/plain": [
       "           tweet_id      img_num      p1_conf       p2_conf       p3_conf\n",
       "count  2.075000e+03  2075.000000  2075.000000  2.075000e+03  2.075000e+03\n",
       "mean   7.384514e+17     1.203855     0.594548  1.345886e-01  6.032417e-02\n",
       "std    6.785203e+16     0.561875     0.271174  1.006657e-01  5.090593e-02\n",
       "min    6.660209e+17     1.000000     0.044333  1.011300e-08  1.740170e-10\n",
       "25%    6.764835e+17     1.000000     0.364412  5.388625e-02  1.622240e-02\n",
       "50%    7.119988e+17     1.000000     0.588230  1.181810e-01  4.944380e-02\n",
       "75%    7.932034e+17     1.000000     0.843855  1.955655e-01  9.180755e-02\n",
       "max    8.924206e+17     4.000000     1.000000  4.880140e-01  2.734190e-01"
      ]
     },
     "execution_count": 27,
     "metadata": {},
     "output_type": "execute_result"
    }
   ],
   "source": [
    "image_predic_df.describe()"
   ]
  },
  {
   "cell_type": "code",
   "execution_count": null,
   "id": "valued-voluntary",
   "metadata": {},
   "outputs": [],
   "source": []
  },
  {
   "cell_type": "markdown",
   "id": "august-zoning",
   "metadata": {},
   "source": [
    "`tweets_df`  columns:\n",
    "- **retweet_count**: number retweeting a certain tweet with 'tweet_id'\n",
    "- **like_count**: how many times this Tweet has been liked"
   ]
  },
  {
   "cell_type": "markdown",
   "id": "capable-wireless",
   "metadata": {},
   "source": [
    "## Quality issues\n",
    "`twitter_archive_df` \n",
    "* `source` has html tages which is not neccessary and convert its data type to categoty.  \n",
    "* `timestamp`, and `retweeted_status_timestamp` should be as datetime not object (data type error)\n",
    "* `in_reply_to_status_id` and `in_reply_to_user_id` should be integer not float  (data type error)\n",
    "* keep original tweets and remove reweeted ones. \n",
    "* based on point above, remove columns of `retweeted_status_id, retweeted_status_user_id` and `retweeted_status_timestamp` \n",
    "* satisfy consistancy between `twitter_archive_df` and `image_predic_df`\n",
    "* dog `names` with lowercase and single character such as *'a'*\n",
    "* very high `rating_numerator` e.g. 1776 with respsect to `rating_denominator`==> scaling both"
   ]
  },
  {
   "cell_type": "markdown",
   "id": "mobile-pledge",
   "metadata": {},
   "source": [
    "## Tidness issues\n",
    "`twitter_archive_df` \n",
    "* `doggo, floofer, pupper`, and `puppo` should be mergerd in one column\n",
    "* table of `tweets_df` should be added to `twitter_archive_df`"
   ]
  },
  {
   "cell_type": "markdown",
   "id": "substantial-belarus",
   "metadata": {},
   "source": [
    "## Cleaning"
   ]
  },
  {
   "cell_type": "markdown",
   "id": "elder-inventory",
   "metadata": {},
   "source": [
    "### Quality"
   ]
  },
  {
   "cell_type": "code",
   "execution_count": 28,
   "id": "attempted-disposition",
   "metadata": {},
   "outputs": [],
   "source": [
    "twitter_archive_clean = twitter_archive_df.copy()"
   ]
  },
  {
   "cell_type": "markdown",
   "id": "vital-swing",
   "metadata": {},
   "source": [
    "#### `source` has html tages which is not neccessary and convert its data type to categoty"
   ]
  },
  {
   "cell_type": "markdown",
   "id": "ahead-essex",
   "metadata": {},
   "source": [
    "##### Define\n",
    "remove html tages by recognizing its pattern in source column using [this link](https://stackoverflow.com/questions/753052/strip-html-from-strings-in-python)"
   ]
  },
  {
   "cell_type": "markdown",
   "id": "capital-bloom",
   "metadata": {},
   "source": [
    "##### code"
   ]
  },
  {
   "cell_type": "code",
   "execution_count": 29,
   "id": "split-process",
   "metadata": {},
   "outputs": [],
   "source": [
    "twitter_archive_clean.source = twitter_archive_clean.source.str.replace(r'<[^<]+?>', '')"
   ]
  },
  {
   "cell_type": "code",
   "execution_count": 30,
   "id": "entertaining-patrick",
   "metadata": {},
   "outputs": [],
   "source": [
    "twitter_archive_clean.source = twitter_archive_clean.source.astype('category')"
   ]
  },
  {
   "cell_type": "markdown",
   "id": "unauthorized-zoning",
   "metadata": {},
   "source": [
    "##### test"
   ]
  },
  {
   "cell_type": "code",
   "execution_count": 31,
   "id": "passing-worthy",
   "metadata": {},
   "outputs": [
    {
     "data": {
      "text/plain": [
       "Twitter for iPhone     2221\n",
       "Vine - Make a Scene      91\n",
       "Twitter Web Client       33\n",
       "TweetDeck                11\n",
       "Name: source, dtype: int64"
      ]
     },
     "execution_count": 31,
     "metadata": {},
     "output_type": "execute_result"
    }
   ],
   "source": [
    "twitter_archive_clean.source.value_counts()"
   ]
  },
  {
   "cell_type": "code",
   "execution_count": 32,
   "id": "surgical-virus",
   "metadata": {},
   "outputs": [
    {
     "name": "stdout",
     "output_type": "stream",
     "text": [
      "<class 'pandas.core.frame.DataFrame'>\n",
      "RangeIndex: 2356 entries, 0 to 2355\n",
      "Data columns (total 17 columns):\n",
      " #   Column                      Non-Null Count  Dtype   \n",
      "---  ------                      --------------  -----   \n",
      " 0   tweet_id                    2356 non-null   int64   \n",
      " 1   in_reply_to_status_id       78 non-null     float64 \n",
      " 2   in_reply_to_user_id         78 non-null     float64 \n",
      " 3   timestamp                   2356 non-null   object  \n",
      " 4   source                      2356 non-null   category\n",
      " 5   text                        2356 non-null   object  \n",
      " 6   retweeted_status_id         181 non-null    float64 \n",
      " 7   retweeted_status_user_id    181 non-null    float64 \n",
      " 8   retweeted_status_timestamp  181 non-null    object  \n",
      " 9   expanded_urls               2297 non-null   object  \n",
      " 10  rating_numerator            2356 non-null   int64   \n",
      " 11  rating_denominator          2356 non-null   int64   \n",
      " 12  name                        2356 non-null   object  \n",
      " 13  doggo                       2356 non-null   object  \n",
      " 14  floofer                     2356 non-null   object  \n",
      " 15  pupper                      2356 non-null   object  \n",
      " 16  puppo                       2356 non-null   object  \n",
      "dtypes: category(1), float64(4), int64(3), object(9)\n",
      "memory usage: 297.1+ KB\n"
     ]
    }
   ],
   "source": [
    "twitter_archive_clean.info()"
   ]
  },
  {
   "cell_type": "code",
   "execution_count": null,
   "id": "broad-abortion",
   "metadata": {},
   "outputs": [],
   "source": []
  },
  {
   "cell_type": "markdown",
   "id": "unlike-machinery",
   "metadata": {},
   "source": [
    "#### data type error\n",
    "* `timestamp`, and `retweeted_status_timestamp` should be as datetime not object \n",
    "* `in_reply_to_status_id` and `in_reply_to_user_id` should be integer not float  "
   ]
  },
  {
   "cell_type": "markdown",
   "id": "voluntary-routine",
   "metadata": {},
   "source": [
    "##### Define\n",
    "convert `timestamp`, and `retweeted_status_timestamp` using pd.to_datetime"
   ]
  },
  {
   "cell_type": "markdown",
   "id": "continuing-hello",
   "metadata": {},
   "source": [
    "##### code"
   ]
  },
  {
   "cell_type": "code",
   "execution_count": 33,
   "id": "mysterious-diploma",
   "metadata": {},
   "outputs": [],
   "source": [
    "twitter_archive_clean.timestamp = pd.to_datetime(twitter_archive_clean.timestamp)\n",
    "twitter_archive_clean.timestamp = pd.to_datetime(twitter_archive_clean.timestamp)\n",
    "\n",
    "twitter_archive_clean.in_reply_to_status_id = twitter_archive_clean.in_reply_to_status_id.fillna(0)\n",
    "twitter_archive_clean.in_reply_to_user_id = twitter_archive_clean.in_reply_to_user_id.fillna(0)\n",
    "twitter_archive_clean.in_reply_to_status_id = twitter_archive_clean.in_reply_to_status_id.astype('int64')\n",
    "twitter_archive_clean.in_reply_to_user_id = twitter_archive_clean.in_reply_to_user_id.astype('int64')"
   ]
  },
  {
   "cell_type": "markdown",
   "id": "marked-opportunity",
   "metadata": {},
   "source": [
    "##### test"
   ]
  },
  {
   "cell_type": "code",
   "execution_count": 34,
   "id": "approved-revolution",
   "metadata": {},
   "outputs": [
    {
     "name": "stdout",
     "output_type": "stream",
     "text": [
      "<class 'pandas.core.frame.DataFrame'>\n",
      "RangeIndex: 2356 entries, 0 to 2355\n",
      "Data columns (total 17 columns):\n",
      " #   Column                      Non-Null Count  Dtype              \n",
      "---  ------                      --------------  -----              \n",
      " 0   tweet_id                    2356 non-null   int64              \n",
      " 1   in_reply_to_status_id       2356 non-null   int64              \n",
      " 2   in_reply_to_user_id         2356 non-null   int64              \n",
      " 3   timestamp                   2356 non-null   datetime64[ns, UTC]\n",
      " 4   source                      2356 non-null   category           \n",
      " 5   text                        2356 non-null   object             \n",
      " 6   retweeted_status_id         181 non-null    float64            \n",
      " 7   retweeted_status_user_id    181 non-null    float64            \n",
      " 8   retweeted_status_timestamp  181 non-null    object             \n",
      " 9   expanded_urls               2297 non-null   object             \n",
      " 10  rating_numerator            2356 non-null   int64              \n",
      " 11  rating_denominator          2356 non-null   int64              \n",
      " 12  name                        2356 non-null   object             \n",
      " 13  doggo                       2356 non-null   object             \n",
      " 14  floofer                     2356 non-null   object             \n",
      " 15  pupper                      2356 non-null   object             \n",
      " 16  puppo                       2356 non-null   object             \n",
      "dtypes: category(1), datetime64[ns, UTC](1), float64(2), int64(5), object(8)\n",
      "memory usage: 297.1+ KB\n"
     ]
    }
   ],
   "source": [
    "twitter_archive_clean.info()"
   ]
  },
  {
   "cell_type": "code",
   "execution_count": null,
   "id": "swiss-defensive",
   "metadata": {},
   "outputs": [],
   "source": []
  },
  {
   "cell_type": "markdown",
   "id": "shared-treasurer",
   "metadata": {},
   "source": [
    "#### keep original tweets and remove reweeted ones."
   ]
  },
  {
   "cell_type": "markdown",
   "id": "considered-scanner",
   "metadata": {},
   "source": [
    "##### Define\n",
    "keep all records at which `retweeted_status_id` is nulls"
   ]
  },
  {
   "cell_type": "markdown",
   "id": "single-leone",
   "metadata": {},
   "source": [
    "##### code"
   ]
  },
  {
   "cell_type": "code",
   "execution_count": 35,
   "id": "authorized-delay",
   "metadata": {},
   "outputs": [],
   "source": [
    "twitter_archive_clean = twitter_archive_clean[twitter_archive_clean.retweeted_status_id.isnull()]"
   ]
  },
  {
   "cell_type": "markdown",
   "id": "occupied-college",
   "metadata": {},
   "source": [
    "##### test"
   ]
  },
  {
   "cell_type": "code",
   "execution_count": 36,
   "id": "consolidated-aircraft",
   "metadata": {},
   "outputs": [
    {
     "data": {
      "text/plain": [
       "0"
      ]
     },
     "execution_count": 36,
     "metadata": {},
     "output_type": "execute_result"
    }
   ],
   "source": [
    "len(twitter_archive_clean[twitter_archive_clean.retweeted_status_id.isnull()==False])"
   ]
  },
  {
   "cell_type": "code",
   "execution_count": null,
   "id": "material-issue",
   "metadata": {},
   "outputs": [],
   "source": []
  },
  {
   "cell_type": "markdown",
   "id": "promising-interview",
   "metadata": {},
   "source": [
    "#### Drop retweeting columns"
   ]
  },
  {
   "cell_type": "markdown",
   "id": "active-welsh",
   "metadata": {},
   "source": [
    "##### Define\n",
    "remove columns of `retweeted_status_id, retweeted_status_user_id` and `retweeted_status_timestamp` "
   ]
  },
  {
   "cell_type": "markdown",
   "id": "careful-exploration",
   "metadata": {},
   "source": [
    "##### code"
   ]
  },
  {
   "cell_type": "code",
   "execution_count": 37,
   "id": "virgin-monte",
   "metadata": {},
   "outputs": [],
   "source": [
    "twitter_archive_clean = twitter_archive_clean.drop(columns=['retweeted_status_id', 'retweeted_status_user_id', 'retweeted_status_timestamp'], axis=1)"
   ]
  },
  {
   "cell_type": "markdown",
   "id": "boxed-sound",
   "metadata": {},
   "source": [
    "##### test"
   ]
  },
  {
   "cell_type": "code",
   "execution_count": 38,
   "id": "educated-transition",
   "metadata": {},
   "outputs": [
    {
     "name": "stdout",
     "output_type": "stream",
     "text": [
      "<class 'pandas.core.frame.DataFrame'>\n",
      "Int64Index: 2175 entries, 0 to 2355\n",
      "Data columns (total 14 columns):\n",
      " #   Column                 Non-Null Count  Dtype              \n",
      "---  ------                 --------------  -----              \n",
      " 0   tweet_id               2175 non-null   int64              \n",
      " 1   in_reply_to_status_id  2175 non-null   int64              \n",
      " 2   in_reply_to_user_id    2175 non-null   int64              \n",
      " 3   timestamp              2175 non-null   datetime64[ns, UTC]\n",
      " 4   source                 2175 non-null   category           \n",
      " 5   text                   2175 non-null   object             \n",
      " 6   expanded_urls          2117 non-null   object             \n",
      " 7   rating_numerator       2175 non-null   int64              \n",
      " 8   rating_denominator     2175 non-null   int64              \n",
      " 9   name                   2175 non-null   object             \n",
      " 10  doggo                  2175 non-null   object             \n",
      " 11  floofer                2175 non-null   object             \n",
      " 12  pupper                 2175 non-null   object             \n",
      " 13  puppo                  2175 non-null   object             \n",
      "dtypes: category(1), datetime64[ns, UTC](1), int64(5), object(7)\n",
      "memory usage: 240.2+ KB\n"
     ]
    }
   ],
   "source": [
    "twitter_archive_clean.info()"
   ]
  },
  {
   "cell_type": "code",
   "execution_count": null,
   "id": "favorite-creativity",
   "metadata": {},
   "outputs": [],
   "source": []
  },
  {
   "cell_type": "markdown",
   "id": "waiting-satellite",
   "metadata": {},
   "source": [
    "#### satisfy consistancy between `twitter_archive_df` and `image_predic_df`"
   ]
  },
  {
   "cell_type": "markdown",
   "id": "golden-vitamin",
   "metadata": {},
   "source": [
    "##### Define\n",
    "all twitte_id in `image_predic_df` are existed in `twitter_archive_df`, i.e `twitter_archive_df` has more twitter_id = 2356-2075 = 281. So, we need to keep tweets/records in `twitter_archive_df` which are in `image_predic_df`"
   ]
  },
  {
   "cell_type": "markdown",
   "id": "loose-active",
   "metadata": {},
   "source": [
    "##### code"
   ]
  },
  {
   "cell_type": "code",
   "execution_count": 39,
   "id": "young-jaguar",
   "metadata": {},
   "outputs": [],
   "source": [
    "twitter_archive_clean = twitter_archive_clean[twitter_archive_clean.tweet_id.isin(image_predic_df.tweet_id)]"
   ]
  },
  {
   "cell_type": "markdown",
   "id": "miniature-blend",
   "metadata": {},
   "source": [
    "##### test"
   ]
  },
  {
   "cell_type": "code",
   "execution_count": 40,
   "id": "light-medication",
   "metadata": {},
   "outputs": [
    {
     "data": {
      "text/plain": [
       "0"
      ]
     },
     "execution_count": 40,
     "metadata": {},
     "output_type": "execute_result"
    }
   ],
   "source": [
    "len(twitter_archive_clean[~twitter_archive_clean.tweet_id.isin(image_predic_df.tweet_id)])"
   ]
  },
  {
   "cell_type": "code",
   "execution_count": null,
   "id": "pharmaceutical-bridges",
   "metadata": {},
   "outputs": [],
   "source": []
  },
  {
   "cell_type": "markdown",
   "id": "broad-margin",
   "metadata": {},
   "source": [
    "#### dog `names` with lowercase and single character such as *'a'*"
   ]
  },
  {
   "cell_type": "markdown",
   "id": "shaped-outreach",
   "metadata": {},
   "source": [
    "##### Define\n",
    "replace single letter dog names with nan"
   ]
  },
  {
   "cell_type": "markdown",
   "id": "announced-arabic",
   "metadata": {},
   "source": [
    "##### code"
   ]
  },
  {
   "cell_type": "code",
   "execution_count": 41,
   "id": "collected-mason",
   "metadata": {},
   "outputs": [],
   "source": [
    "twitter_archive_clean.name[twitter_archive_clean.name.str.match(r'^[a-z]+')] = 'None'"
   ]
  },
  {
   "cell_type": "markdown",
   "id": "unable-beatles",
   "metadata": {},
   "source": [
    "##### test"
   ]
  },
  {
   "cell_type": "code",
   "execution_count": 42,
   "id": "brutal-nothing",
   "metadata": {},
   "outputs": [
    {
     "data": {
      "text/plain": [
       "None       644\n",
       "Charlie     11\n",
       "Oliver      10\n",
       "Cooper      10\n",
       "Lucy        10\n",
       "          ... \n",
       "Gunner       1\n",
       "Dotsy        1\n",
       "Ulysses      1\n",
       "River        1\n",
       "Zuzu         1\n",
       "Name: name, Length: 914, dtype: int64"
      ]
     },
     "execution_count": 42,
     "metadata": {},
     "output_type": "execute_result"
    }
   ],
   "source": [
    "twitter_archive_clean.name.value_counts()"
   ]
  },
  {
   "cell_type": "code",
   "execution_count": null,
   "id": "impossible-tribe",
   "metadata": {},
   "outputs": [],
   "source": []
  },
  {
   "cell_type": "markdown",
   "id": "polished-amino",
   "metadata": {},
   "source": [
    "####  very high `rating_numerator` e.g. 1776 with respsect to `rating_denominator`"
   ]
  },
  {
   "cell_type": "markdown",
   "id": "medium-seattle",
   "metadata": {},
   "source": [
    "##### Define\n",
    "* normalize rating_numerator and rating_denominator using [min-max normalization](https://stackoverflow.com/questions/26414913/normalize-columns-of-pandas-data-frame)\n",
    "* correct zero denominator to 1 at index 2335\n",
    "* use `rating_numerator` and `rating_denominator` to find single rating score and then remove both columns"
   ]
  },
  {
   "cell_type": "markdown",
   "id": "effective-garden",
   "metadata": {},
   "source": [
    "##### code"
   ]
  },
  {
   "cell_type": "code",
   "execution_count": 43,
   "id": "hearing-brass",
   "metadata": {},
   "outputs": [],
   "source": [
    "twitter_archive_clean.rating_numerator = (twitter_archive_clean.rating_numerator - twitter_archive_clean.rating_numerator.min())/(twitter_archive_clean.rating_numerator.max()-twitter_archive_clean.rating_numerator.min())\n",
    "twitter_archive_clean.rating_denominator = (twitter_archive_clean.rating_denominator - twitter_archive_clean.rating_denominator.min())/(twitter_archive_clean.rating_denominator.max()-twitter_archive_clean.rating_denominator.min())"
   ]
  },
  {
   "cell_type": "code",
   "execution_count": 44,
   "id": "pursuant-identification",
   "metadata": {},
   "outputs": [],
   "source": [
    "twitter_archive_clean.rating_denominator.replace(0, 1.0, inplace=True)"
   ]
  },
  {
   "cell_type": "code",
   "execution_count": 45,
   "id": "sufficient-advocate",
   "metadata": {},
   "outputs": [],
   "source": [
    "twitter_archive_clean['rating_score'] = (twitter_archive_clean.rating_numerator/twitter_archive_clean.rating_denominator)"
   ]
  },
  {
   "cell_type": "code",
   "execution_count": 46,
   "id": "exceptional-workshop",
   "metadata": {},
   "outputs": [],
   "source": [
    "twitter_archive_clean.drop(columns=['rating_numerator', 'rating_denominator'], index=1, inplace=True)"
   ]
  },
  {
   "cell_type": "markdown",
   "id": "automated-watson",
   "metadata": {},
   "source": [
    "##### test"
   ]
  },
  {
   "cell_type": "code",
   "execution_count": 47,
   "id": "behind-sunset",
   "metadata": {},
   "outputs": [
    {
     "data": {
      "text/html": [
       "<div>\n",
       "<style scoped>\n",
       "    .dataframe tbody tr th:only-of-type {\n",
       "        vertical-align: middle;\n",
       "    }\n",
       "\n",
       "    .dataframe tbody tr th {\n",
       "        vertical-align: top;\n",
       "    }\n",
       "\n",
       "    .dataframe thead th {\n",
       "        text-align: right;\n",
       "    }\n",
       "</style>\n",
       "<table border=\"1\" class=\"dataframe\">\n",
       "  <thead>\n",
       "    <tr style=\"text-align: right;\">\n",
       "      <th></th>\n",
       "      <th>tweet_id</th>\n",
       "      <th>in_reply_to_status_id</th>\n",
       "      <th>in_reply_to_user_id</th>\n",
       "      <th>timestamp</th>\n",
       "      <th>source</th>\n",
       "      <th>text</th>\n",
       "      <th>expanded_urls</th>\n",
       "      <th>name</th>\n",
       "      <th>doggo</th>\n",
       "      <th>floofer</th>\n",
       "      <th>pupper</th>\n",
       "      <th>puppo</th>\n",
       "      <th>rating_score</th>\n",
       "    </tr>\n",
       "  </thead>\n",
       "  <tbody>\n",
       "    <tr>\n",
       "      <th>2261</th>\n",
       "      <td>667549055577362432</td>\n",
       "      <td>0</td>\n",
       "      <td>0</td>\n",
       "      <td>2015-11-20 03:44:31+00:00</td>\n",
       "      <td>Twitter Web Client</td>\n",
       "      <td>Never seen dog like this. Breathes heavy. Tilt...</td>\n",
       "      <td>https://twitter.com/dog_rates/status/667549055...</td>\n",
       "      <td>None</td>\n",
       "      <td>None</td>\n",
       "      <td>None</td>\n",
       "      <td>None</td>\n",
       "      <td>None</td>\n",
       "      <td>0.011824</td>\n",
       "    </tr>\n",
       "    <tr>\n",
       "      <th>1460</th>\n",
       "      <td>695051054296211456</td>\n",
       "      <td>0</td>\n",
       "      <td>0</td>\n",
       "      <td>2016-02-04 01:07:39+00:00</td>\n",
       "      <td>Twitter for iPhone</td>\n",
       "      <td>Meet Brian (pronounced \"Kirk\"). He's not amuse...</td>\n",
       "      <td>https://twitter.com/dog_rates/status/695051054...</td>\n",
       "      <td>Brian</td>\n",
       "      <td>None</td>\n",
       "      <td>None</td>\n",
       "      <td>None</td>\n",
       "      <td>None</td>\n",
       "      <td>0.070946</td>\n",
       "    </tr>\n",
       "    <tr>\n",
       "      <th>659</th>\n",
       "      <td>791406955684368384</td>\n",
       "      <td>0</td>\n",
       "      <td>0</td>\n",
       "      <td>2016-10-26 22:31:36+00:00</td>\n",
       "      <td>Twitter for iPhone</td>\n",
       "      <td>Say hello to Levi. He's a Madagascan Butterbop...</td>\n",
       "      <td>https://twitter.com/dog_rates/status/791406955...</td>\n",
       "      <td>Levi</td>\n",
       "      <td>None</td>\n",
       "      <td>None</td>\n",
       "      <td>None</td>\n",
       "      <td>None</td>\n",
       "      <td>0.141892</td>\n",
       "    </tr>\n",
       "    <tr>\n",
       "      <th>473</th>\n",
       "      <td>816336735214911488</td>\n",
       "      <td>0</td>\n",
       "      <td>0</td>\n",
       "      <td>2017-01-03 17:33:39+00:00</td>\n",
       "      <td>Twitter for iPhone</td>\n",
       "      <td>This is Dudley. He found a flower and now he's...</td>\n",
       "      <td>https://twitter.com/dog_rates/status/816336735...</td>\n",
       "      <td>Dudley</td>\n",
       "      <td>None</td>\n",
       "      <td>None</td>\n",
       "      <td>None</td>\n",
       "      <td>None</td>\n",
       "      <td>0.130068</td>\n",
       "    </tr>\n",
       "    <tr>\n",
       "      <th>2111</th>\n",
       "      <td>670442337873600512</td>\n",
       "      <td>0</td>\n",
       "      <td>0</td>\n",
       "      <td>2015-11-28 03:21:24+00:00</td>\n",
       "      <td>Twitter for iPhone</td>\n",
       "      <td>Meet Koda. He's large. Looks very soft. Great ...</td>\n",
       "      <td>https://twitter.com/dog_rates/status/670442337...</td>\n",
       "      <td>Koda</td>\n",
       "      <td>None</td>\n",
       "      <td>None</td>\n",
       "      <td>None</td>\n",
       "      <td>None</td>\n",
       "      <td>0.130068</td>\n",
       "    </tr>\n",
       "  </tbody>\n",
       "</table>\n",
       "</div>"
      ],
      "text/plain": [
       "                tweet_id  in_reply_to_status_id  in_reply_to_user_id  \\\n",
       "2261  667549055577362432                      0                    0   \n",
       "1460  695051054296211456                      0                    0   \n",
       "659   791406955684368384                      0                    0   \n",
       "473   816336735214911488                      0                    0   \n",
       "2111  670442337873600512                      0                    0   \n",
       "\n",
       "                     timestamp              source  \\\n",
       "2261 2015-11-20 03:44:31+00:00  Twitter Web Client   \n",
       "1460 2016-02-04 01:07:39+00:00  Twitter for iPhone   \n",
       "659  2016-10-26 22:31:36+00:00  Twitter for iPhone   \n",
       "473  2017-01-03 17:33:39+00:00  Twitter for iPhone   \n",
       "2111 2015-11-28 03:21:24+00:00  Twitter for iPhone   \n",
       "\n",
       "                                                   text  \\\n",
       "2261  Never seen dog like this. Breathes heavy. Tilt...   \n",
       "1460  Meet Brian (pronounced \"Kirk\"). He's not amuse...   \n",
       "659   Say hello to Levi. He's a Madagascan Butterbop...   \n",
       "473   This is Dudley. He found a flower and now he's...   \n",
       "2111  Meet Koda. He's large. Looks very soft. Great ...   \n",
       "\n",
       "                                          expanded_urls    name doggo floofer  \\\n",
       "2261  https://twitter.com/dog_rates/status/667549055...    None  None    None   \n",
       "1460  https://twitter.com/dog_rates/status/695051054...   Brian  None    None   \n",
       "659   https://twitter.com/dog_rates/status/791406955...    Levi  None    None   \n",
       "473   https://twitter.com/dog_rates/status/816336735...  Dudley  None    None   \n",
       "2111  https://twitter.com/dog_rates/status/670442337...    Koda  None    None   \n",
       "\n",
       "     pupper puppo  rating_score  \n",
       "2261   None  None      0.011824  \n",
       "1460   None  None      0.070946  \n",
       "659    None  None      0.141892  \n",
       "473    None  None      0.130068  \n",
       "2111   None  None      0.130068  "
      ]
     },
     "execution_count": 47,
     "metadata": {},
     "output_type": "execute_result"
    }
   ],
   "source": [
    "twitter_archive_clean.sample(5)"
   ]
  },
  {
   "cell_type": "markdown",
   "id": "exposed-austria",
   "metadata": {},
   "source": [
    "## Tidness issues\n",
    "`twitter_archive_df` \n",
    "* `doggo, floofer, pupper`, and `puppo` should be mergerd in one column"
   ]
  },
  {
   "cell_type": "markdown",
   "id": "thirty-barrier",
   "metadata": {},
   "source": [
    "##### Define\n",
    "`doggo, floofer, pupper`, and `puppo` should be mergerd in one column with name `breed`"
   ]
  },
  {
   "cell_type": "markdown",
   "id": "forty-vancouver",
   "metadata": {},
   "source": [
    "##### code"
   ]
  },
  {
   "cell_type": "code",
   "execution_count": 48,
   "id": "amended-garage",
   "metadata": {},
   "outputs": [],
   "source": [
    "twitter_archive_clean['breed'] = twitter_archive_clean[['doggo', 'floofer', 'pupper', 'puppo']].max(axis=1)"
   ]
  },
  {
   "cell_type": "markdown",
   "id": "overhead-heating",
   "metadata": {},
   "source": [
    "##### test"
   ]
  },
  {
   "cell_type": "code",
   "execution_count": 49,
   "id": "greenhouse-porcelain",
   "metadata": {},
   "outputs": [],
   "source": [
    "twitter_archive_clean.drop(columns=['doggo', 'floofer', 'pupper', 'puppo'], axis=1, inplace=True)"
   ]
  },
  {
   "cell_type": "code",
   "execution_count": 50,
   "id": "distinct-radar",
   "metadata": {},
   "outputs": [
    {
     "data": {
      "text/html": [
       "<div>\n",
       "<style scoped>\n",
       "    .dataframe tbody tr th:only-of-type {\n",
       "        vertical-align: middle;\n",
       "    }\n",
       "\n",
       "    .dataframe tbody tr th {\n",
       "        vertical-align: top;\n",
       "    }\n",
       "\n",
       "    .dataframe thead th {\n",
       "        text-align: right;\n",
       "    }\n",
       "</style>\n",
       "<table border=\"1\" class=\"dataframe\">\n",
       "  <thead>\n",
       "    <tr style=\"text-align: right;\">\n",
       "      <th></th>\n",
       "      <th>tweet_id</th>\n",
       "      <th>in_reply_to_status_id</th>\n",
       "      <th>in_reply_to_user_id</th>\n",
       "      <th>timestamp</th>\n",
       "      <th>source</th>\n",
       "      <th>text</th>\n",
       "      <th>expanded_urls</th>\n",
       "      <th>name</th>\n",
       "      <th>rating_score</th>\n",
       "      <th>breed</th>\n",
       "    </tr>\n",
       "  </thead>\n",
       "  <tbody>\n",
       "    <tr>\n",
       "      <th>2318</th>\n",
       "      <td>666454714377183233</td>\n",
       "      <td>0</td>\n",
       "      <td>0</td>\n",
       "      <td>2015-11-17 03:16:00+00:00</td>\n",
       "      <td>Twitter for iPhone</td>\n",
       "      <td>I'll name the dogs from now on. This is Kreggo...</td>\n",
       "      <td>https://twitter.com/dog_rates/status/666454714...</td>\n",
       "      <td>Kreggory</td>\n",
       "      <td>0.118243</td>\n",
       "      <td>None</td>\n",
       "    </tr>\n",
       "    <tr>\n",
       "      <th>711</th>\n",
       "      <td>784517518371221505</td>\n",
       "      <td>0</td>\n",
       "      <td>0</td>\n",
       "      <td>2016-10-07 22:15:26+00:00</td>\n",
       "      <td>Twitter for iPhone</td>\n",
       "      <td>This is Frankie. He has yet to learn how to co...</td>\n",
       "      <td>https://twitter.com/dog_rates/status/784517518...</td>\n",
       "      <td>Frankie</td>\n",
       "      <td>0.130068</td>\n",
       "      <td>None</td>\n",
       "    </tr>\n",
       "    <tr>\n",
       "      <th>306</th>\n",
       "      <td>836001077879255040</td>\n",
       "      <td>0</td>\n",
       "      <td>0</td>\n",
       "      <td>2017-02-26 23:52:43+00:00</td>\n",
       "      <td>Twitter for iPhone</td>\n",
       "      <td>Atlas is back and this time he's prettier than...</td>\n",
       "      <td>https://twitter.com/dog_rates/status/836001077...</td>\n",
       "      <td>None</td>\n",
       "      <td>0.153716</td>\n",
       "      <td>None</td>\n",
       "    </tr>\n",
       "    <tr>\n",
       "      <th>1017</th>\n",
       "      <td>746872823977771008</td>\n",
       "      <td>0</td>\n",
       "      <td>0</td>\n",
       "      <td>2016-06-26 01:08:52+00:00</td>\n",
       "      <td>Twitter for iPhone</td>\n",
       "      <td>This is a carrot. We only rate dogs. Please on...</td>\n",
       "      <td>https://twitter.com/dog_rates/status/746872823...</td>\n",
       "      <td>None</td>\n",
       "      <td>0.130068</td>\n",
       "      <td>None</td>\n",
       "    </tr>\n",
       "  </tbody>\n",
       "</table>\n",
       "</div>"
      ],
      "text/plain": [
       "                tweet_id  in_reply_to_status_id  in_reply_to_user_id  \\\n",
       "2318  666454714377183233                      0                    0   \n",
       "711   784517518371221505                      0                    0   \n",
       "306   836001077879255040                      0                    0   \n",
       "1017  746872823977771008                      0                    0   \n",
       "\n",
       "                     timestamp              source  \\\n",
       "2318 2015-11-17 03:16:00+00:00  Twitter for iPhone   \n",
       "711  2016-10-07 22:15:26+00:00  Twitter for iPhone   \n",
       "306  2017-02-26 23:52:43+00:00  Twitter for iPhone   \n",
       "1017 2016-06-26 01:08:52+00:00  Twitter for iPhone   \n",
       "\n",
       "                                                   text  \\\n",
       "2318  I'll name the dogs from now on. This is Kreggo...   \n",
       "711   This is Frankie. He has yet to learn how to co...   \n",
       "306   Atlas is back and this time he's prettier than...   \n",
       "1017  This is a carrot. We only rate dogs. Please on...   \n",
       "\n",
       "                                          expanded_urls      name  \\\n",
       "2318  https://twitter.com/dog_rates/status/666454714...  Kreggory   \n",
       "711   https://twitter.com/dog_rates/status/784517518...   Frankie   \n",
       "306   https://twitter.com/dog_rates/status/836001077...      None   \n",
       "1017  https://twitter.com/dog_rates/status/746872823...      None   \n",
       "\n",
       "      rating_score breed  \n",
       "2318      0.118243  None  \n",
       "711       0.130068  None  \n",
       "306       0.153716  None  \n",
       "1017      0.130068  None  "
      ]
     },
     "execution_count": 50,
     "metadata": {},
     "output_type": "execute_result"
    }
   ],
   "source": [
    "twitter_archive_clean.sample(4)"
   ]
  },
  {
   "cell_type": "code",
   "execution_count": null,
   "id": "organizational-lafayette",
   "metadata": {},
   "outputs": [],
   "source": []
  },
  {
   "cell_type": "markdown",
   "id": "chinese-clone",
   "metadata": {},
   "source": [
    "#### table of `tweets_df` should be added to `twitter_archive_df`"
   ]
  },
  {
   "cell_type": "markdown",
   "id": "textile-terminal",
   "metadata": {},
   "source": [
    "##### Define\n",
    "all columns of  `tweets_df` is merged with `twitter_archive_df` columns"
   ]
  },
  {
   "cell_type": "markdown",
   "id": "adaptive-firewall",
   "metadata": {},
   "source": [
    "##### code"
   ]
  },
  {
   "cell_type": "code",
   "execution_count": 51,
   "id": "dressed-saturn",
   "metadata": {},
   "outputs": [],
   "source": [
    "twitter_archive_clean = pd.merge(twitter_archive_clean, tweets_df, on='tweet_id', how='left')"
   ]
  },
  {
   "cell_type": "markdown",
   "id": "known-brass",
   "metadata": {},
   "source": [
    "##### test"
   ]
  },
  {
   "cell_type": "code",
   "execution_count": 52,
   "id": "relevant-purpose",
   "metadata": {
    "scrolled": true
   },
   "outputs": [
    {
     "data": {
      "text/html": [
       "<div>\n",
       "<style scoped>\n",
       "    .dataframe tbody tr th:only-of-type {\n",
       "        vertical-align: middle;\n",
       "    }\n",
       "\n",
       "    .dataframe tbody tr th {\n",
       "        vertical-align: top;\n",
       "    }\n",
       "\n",
       "    .dataframe thead th {\n",
       "        text-align: right;\n",
       "    }\n",
       "</style>\n",
       "<table border=\"1\" class=\"dataframe\">\n",
       "  <thead>\n",
       "    <tr style=\"text-align: right;\">\n",
       "      <th></th>\n",
       "      <th>tweet_id</th>\n",
       "      <th>in_reply_to_status_id</th>\n",
       "      <th>in_reply_to_user_id</th>\n",
       "      <th>timestamp</th>\n",
       "      <th>source</th>\n",
       "      <th>text</th>\n",
       "      <th>expanded_urls</th>\n",
       "      <th>name</th>\n",
       "      <th>rating_score</th>\n",
       "      <th>breed</th>\n",
       "      <th>retweet_count</th>\n",
       "      <th>like_count</th>\n",
       "    </tr>\n",
       "  </thead>\n",
       "  <tbody>\n",
       "    <tr>\n",
       "      <th>1130</th>\n",
       "      <td>697270446429966336</td>\n",
       "      <td>0</td>\n",
       "      <td>0</td>\n",
       "      <td>2016-02-10 04:06:43+00:00</td>\n",
       "      <td>Twitter for iPhone</td>\n",
       "      <td>This is Bentley. He got stuck on his 3rd homew...</td>\n",
       "      <td>https://twitter.com/dog_rates/status/697270446...</td>\n",
       "      <td>Bentley</td>\n",
       "      <td>0.118243</td>\n",
       "      <td>None</td>\n",
       "      <td>2087</td>\n",
       "      <td>5131</td>\n",
       "    </tr>\n",
       "    <tr>\n",
       "      <th>212</th>\n",
       "      <td>839990271299457024</td>\n",
       "      <td>0</td>\n",
       "      <td>0</td>\n",
       "      <td>2017-03-10 00:04:21+00:00</td>\n",
       "      <td>Twitter for iPhone</td>\n",
       "      <td>Meet Sojourner. His nose is a Fibonacci Spiral...</td>\n",
       "      <td>https://twitter.com/dog_rates/status/839990271...</td>\n",
       "      <td>Sojourner</td>\n",
       "      <td>0.153716</td>\n",
       "      <td>None</td>\n",
       "      <td>2597</td>\n",
       "      <td>14640</td>\n",
       "    </tr>\n",
       "    <tr>\n",
       "      <th>1805</th>\n",
       "      <td>669375718304980992</td>\n",
       "      <td>0</td>\n",
       "      <td>0</td>\n",
       "      <td>2015-11-25 04:43:02+00:00</td>\n",
       "      <td>Twitter for iPhone</td>\n",
       "      <td>This is Billl. He's trying to be a ghost but h...</td>\n",
       "      <td>https://twitter.com/dog_rates/status/669375718...</td>\n",
       "      <td>Billl</td>\n",
       "      <td>0.070946</td>\n",
       "      <td>None</td>\n",
       "      <td>792</td>\n",
       "      <td>1425</td>\n",
       "    </tr>\n",
       "    <tr>\n",
       "      <th>266</th>\n",
       "      <td>829861396166877184</td>\n",
       "      <td>0</td>\n",
       "      <td>0</td>\n",
       "      <td>2017-02-10 01:15:49+00:00</td>\n",
       "      <td>Twitter for iPhone</td>\n",
       "      <td>This is Mia. She already knows she's a good do...</td>\n",
       "      <td>https://twitter.com/dog_rates/status/829861396...</td>\n",
       "      <td>Mia</td>\n",
       "      <td>0.141892</td>\n",
       "      <td>None</td>\n",
       "      <td>2243</td>\n",
       "      <td>13441</td>\n",
       "    </tr>\n",
       "    <tr>\n",
       "      <th>935</th>\n",
       "      <td>715009755312439296</td>\n",
       "      <td>0</td>\n",
       "      <td>0</td>\n",
       "      <td>2016-03-30 02:56:24+00:00</td>\n",
       "      <td>Twitter for iPhone</td>\n",
       "      <td>This is Siba. She's remarkably mobile. Very sl...</td>\n",
       "      <td>https://twitter.com/dog_rates/status/715009755...</td>\n",
       "      <td>Siba</td>\n",
       "      <td>0.141892</td>\n",
       "      <td>None</td>\n",
       "      <td>1392</td>\n",
       "      <td>4550</td>\n",
       "    </tr>\n",
       "    <tr>\n",
       "      <th>1781</th>\n",
       "      <td>670040295598354432</td>\n",
       "      <td>0</td>\n",
       "      <td>0</td>\n",
       "      <td>2015-11-27 00:43:49+00:00</td>\n",
       "      <td>Twitter for iPhone</td>\n",
       "      <td>😂😂😂 10/10 for the dog and the owner https://t....</td>\n",
       "      <td>https://twitter.com/dog_rates/status/670040295...</td>\n",
       "      <td>None</td>\n",
       "      <td>0.118243</td>\n",
       "      <td>None</td>\n",
       "      <td>118</td>\n",
       "      <td>801</td>\n",
       "    </tr>\n",
       "    <tr>\n",
       "      <th>622</th>\n",
       "      <td>765371061932261376</td>\n",
       "      <td>0</td>\n",
       "      <td>0</td>\n",
       "      <td>2016-08-16 02:14:15+00:00</td>\n",
       "      <td>Twitter for iPhone</td>\n",
       "      <td>This is Louie. He's had a long day. Did a lot ...</td>\n",
       "      <td>https://twitter.com/dog_rates/status/765371061...</td>\n",
       "      <td>Louie</td>\n",
       "      <td>0.130068</td>\n",
       "      <td>pupper</td>\n",
       "      <td>2475</td>\n",
       "      <td>7842</td>\n",
       "    </tr>\n",
       "    <tr>\n",
       "      <th>1494</th>\n",
       "      <td>675845657354215424</td>\n",
       "      <td>0</td>\n",
       "      <td>0</td>\n",
       "      <td>2015-12-13 01:12:15+00:00</td>\n",
       "      <td>Twitter for iPhone</td>\n",
       "      <td>This is Pepper. She's not fully comfortable ri...</td>\n",
       "      <td>https://twitter.com/dog_rates/status/675845657...</td>\n",
       "      <td>Pepper</td>\n",
       "      <td>0.118243</td>\n",
       "      <td>pupper</td>\n",
       "      <td>1000</td>\n",
       "      <td>2477</td>\n",
       "    </tr>\n",
       "    <tr>\n",
       "      <th>1959</th>\n",
       "      <td>666430724426358785</td>\n",
       "      <td>0</td>\n",
       "      <td>0</td>\n",
       "      <td>2015-11-17 01:40:41+00:00</td>\n",
       "      <td>Twitter for iPhone</td>\n",
       "      <td>Oh boy what a pup! Sunglasses take this one to...</td>\n",
       "      <td>https://twitter.com/dog_rates/status/666430724...</td>\n",
       "      <td>None</td>\n",
       "      <td>0.070946</td>\n",
       "      <td>None</td>\n",
       "      <td>204</td>\n",
       "      <td>330</td>\n",
       "    </tr>\n",
       "    <tr>\n",
       "      <th>1155</th>\n",
       "      <td>694356675654983680</td>\n",
       "      <td>670668383499735040</td>\n",
       "      <td>4196983835</td>\n",
       "      <td>2016-02-02 03:08:26+00:00</td>\n",
       "      <td>Twitter for iPhone</td>\n",
       "      <td>This pupper only appears through the hole of a...</td>\n",
       "      <td>https://twitter.com/dog_rates/status/694356675...</td>\n",
       "      <td>None</td>\n",
       "      <td>0.118243</td>\n",
       "      <td>pupper</td>\n",
       "      <td>328</td>\n",
       "      <td>1653</td>\n",
       "    </tr>\n",
       "  </tbody>\n",
       "</table>\n",
       "</div>"
      ],
      "text/plain": [
       "                tweet_id  in_reply_to_status_id  in_reply_to_user_id  \\\n",
       "1130  697270446429966336                      0                    0   \n",
       "212   839990271299457024                      0                    0   \n",
       "1805  669375718304980992                      0                    0   \n",
       "266   829861396166877184                      0                    0   \n",
       "935   715009755312439296                      0                    0   \n",
       "1781  670040295598354432                      0                    0   \n",
       "622   765371061932261376                      0                    0   \n",
       "1494  675845657354215424                      0                    0   \n",
       "1959  666430724426358785                      0                    0   \n",
       "1155  694356675654983680     670668383499735040           4196983835   \n",
       "\n",
       "                     timestamp              source  \\\n",
       "1130 2016-02-10 04:06:43+00:00  Twitter for iPhone   \n",
       "212  2017-03-10 00:04:21+00:00  Twitter for iPhone   \n",
       "1805 2015-11-25 04:43:02+00:00  Twitter for iPhone   \n",
       "266  2017-02-10 01:15:49+00:00  Twitter for iPhone   \n",
       "935  2016-03-30 02:56:24+00:00  Twitter for iPhone   \n",
       "1781 2015-11-27 00:43:49+00:00  Twitter for iPhone   \n",
       "622  2016-08-16 02:14:15+00:00  Twitter for iPhone   \n",
       "1494 2015-12-13 01:12:15+00:00  Twitter for iPhone   \n",
       "1959 2015-11-17 01:40:41+00:00  Twitter for iPhone   \n",
       "1155 2016-02-02 03:08:26+00:00  Twitter for iPhone   \n",
       "\n",
       "                                                   text  \\\n",
       "1130  This is Bentley. He got stuck on his 3rd homew...   \n",
       "212   Meet Sojourner. His nose is a Fibonacci Spiral...   \n",
       "1805  This is Billl. He's trying to be a ghost but h...   \n",
       "266   This is Mia. She already knows she's a good do...   \n",
       "935   This is Siba. She's remarkably mobile. Very sl...   \n",
       "1781  😂😂😂 10/10 for the dog and the owner https://t....   \n",
       "622   This is Louie. He's had a long day. Did a lot ...   \n",
       "1494  This is Pepper. She's not fully comfortable ri...   \n",
       "1959  Oh boy what a pup! Sunglasses take this one to...   \n",
       "1155  This pupper only appears through the hole of a...   \n",
       "\n",
       "                                          expanded_urls       name  \\\n",
       "1130  https://twitter.com/dog_rates/status/697270446...    Bentley   \n",
       "212   https://twitter.com/dog_rates/status/839990271...  Sojourner   \n",
       "1805  https://twitter.com/dog_rates/status/669375718...      Billl   \n",
       "266   https://twitter.com/dog_rates/status/829861396...        Mia   \n",
       "935   https://twitter.com/dog_rates/status/715009755...       Siba   \n",
       "1781  https://twitter.com/dog_rates/status/670040295...       None   \n",
       "622   https://twitter.com/dog_rates/status/765371061...      Louie   \n",
       "1494  https://twitter.com/dog_rates/status/675845657...     Pepper   \n",
       "1959  https://twitter.com/dog_rates/status/666430724...       None   \n",
       "1155  https://twitter.com/dog_rates/status/694356675...       None   \n",
       "\n",
       "      rating_score   breed  retweet_count  like_count  \n",
       "1130      0.118243    None           2087        5131  \n",
       "212       0.153716    None           2597       14640  \n",
       "1805      0.070946    None            792        1425  \n",
       "266       0.141892    None           2243       13441  \n",
       "935       0.141892    None           1392        4550  \n",
       "1781      0.118243    None            118         801  \n",
       "622       0.130068  pupper           2475        7842  \n",
       "1494      0.118243  pupper           1000        2477  \n",
       "1959      0.070946    None            204         330  \n",
       "1155      0.118243  pupper            328        1653  "
      ]
     },
     "execution_count": 52,
     "metadata": {},
     "output_type": "execute_result"
    }
   ],
   "source": [
    "twitter_archive_clean.sample(10)"
   ]
  },
  {
   "cell_type": "code",
   "execution_count": null,
   "id": "surrounded-digest",
   "metadata": {},
   "outputs": [],
   "source": []
  },
  {
   "cell_type": "markdown",
   "id": "white-visiting",
   "metadata": {},
   "source": [
    "# visualization "
   ]
  },
  {
   "cell_type": "code",
   "execution_count": 53,
   "id": "thirty-attachment",
   "metadata": {},
   "outputs": [
    {
     "data": {
      "text/plain": [
       "Text(0.5, 1.0, 'Average rating score of dogs over 2015-2017')"
      ]
     },
     "execution_count": 53,
     "metadata": {},
     "output_type": "execute_result"
    },
    {
     "data": {
      "image/png": "[encoded data removed]",
      "text/plain": [
       "<Figure size 576x432 with 1 Axes>"
      ]
     },
     "metadata": {},
     "output_type": "display_data"
    }
   ],
   "source": [
    "mean_rate_score_year = twitter_archive_clean.groupby([twitter_archive_clean.timestamp.dt.year, twitter_archive_clean.timestamp.dt.month])['rating_score'].mean()\n",
    "mean_rate_score_year.plot(kind='bar', figsize=(8,6))\n",
    "plt.xlabel('time(year, month)')\n",
    "plt.ylabel('mean of dog rating')\n",
    "plt.title('Average rating score of dogs over 2015-2017')"
   ]
  },
  {
   "cell_type": "code",
   "execution_count": 59,
   "id": "rubber-possibility",
   "metadata": {},
   "outputs": [
    {
     "data": {
      "image/png": "[encoded data removed]",
      "text/plain": [
       "<Figure size 576x432 with 1 Axes>"
      ]
     },
     "metadata": {},
     "output_type": "display_data"
    }
   ],
   "source": [
    "twitter_archive_clean.like_count.groupby([twitter_archive_clean.timestamp.dt.year, twitter_archive_clean.timestamp.dt.month]).mean().plot(figsize=(8,6))\n",
    "twitter_archive_clean.retweet_count.groupby([twitter_archive_clean.timestamp.dt.year, twitter_archive_clean.timestamp.dt.month]).mean().plot(figsize=(8,6))\n",
    "plt.xlabel('time(year, month)')\n",
    "plt.ylabel('mean of favorite and retweet counts')\n",
    "plt.legend(('favorite counts', 'retweet counts'))\n",
    "plt.show()"
   ]
  },
  {
   "cell_type": "code",
   "execution_count": 55,
   "id": "political-canon",
   "metadata": {},
   "outputs": [
    {
     "data": {
      "text/plain": [
       "Text(0, 0.5, 'number of tweets')"
      ]
     },
     "execution_count": 55,
     "metadata": {},
     "output_type": "execute_result"
    },
    {
     "data": {
      "image/png": "[encoded data removed]",
      "text/plain": [
       "<Figure size 576x432 with 1 Axes>"
      ]
     },
     "metadata": {},
     "output_type": "display_data"
    }
   ],
   "source": [
    "twitter_archive_clean.groupby([twitter_archive_clean.timestamp.dt.year, 'source'])['source'].count().plot(kind='bar', figsize=(8,6))\n",
    "plt.xlabel('year, source of tweet')\n",
    "plt.ylabel('number of tweets')"
   ]
  },
  {
   "cell_type": "code",
   "execution_count": 56,
   "id": "shaped-system",
   "metadata": {},
   "outputs": [
    {
     "data": {
      "text/plain": [
       "Text(0.5, 1.0, 'top 10 dogs')"
      ]
     },
     "execution_count": 56,
     "metadata": {},
     "output_type": "execute_result"
    },
    {
     "data": {
      "image/png": "[encoded data removed]",
      "text/plain": [
       "<Figure size 576x432 with 1 Axes>"
      ]
     },
     "metadata": {},
     "output_type": "display_data"
    }
   ],
   "source": [
    "twitter_archive_clean.name.value_counts()[1:11].plot(kind='bar', figsize=(8,6))\n",
    "plt.xlabel('dog name')\n",
    "plt.ylabel('dog count')\n",
    "plt.title('top 10 dogs')"
   ]
  },
  {
   "cell_type": "code",
   "execution_count": null,
   "id": "final-camcorder",
   "metadata": {},
   "outputs": [],
   "source": []
  }
 ],
 "metadata": {
  "kernelspec": {
   "display_name": "Python [conda env:tf-gpu] *",
   "language": "python",
   "name": "conda-env-tf-gpu-py"
  },
  "language_info": {
   "codemirror_mode": {
    "name": "ipython",
    "version": 3
   },
   "file_extension": ".py",
   "mimetype": "text/x-python",
   "name": "python",
   "nbconvert_exporter": "python",
   "pygments_lexer": "ipython3",
   "version": "3.6.12"
  }
 },
 "nbformat": 4,
 "nbformat_minor": 5
}
